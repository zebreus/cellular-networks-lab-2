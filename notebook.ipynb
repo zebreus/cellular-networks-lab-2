{
 "cells": [
  {
   "cell_type": "markdown",
   "metadata": {},
   "source": [
    "# Preparation\n",
    "\n",
    "### What are the parameters for LTE throughput calculation? \n",
    "\n",
    "The parameters for LTE throughput calculation are the Signal to Noise Ratio (SNR) and the available bandwidth.\n",
    "\n",
    "### Derive an equation to calculate throughput.\n",
    "\n",
    "Shannon's equation describes the maximum rate at which information can be correctly received from a channel with a given bandwidth and SNR"
   ]
  },
  {
   "cell_type": "code",
   "execution_count": 70,
   "metadata": {},
   "outputs": [],
   "source": [
    "const shannonsEquation = (snr: number, bandwidth: number) => \n",
    "    bandwidth * Math.log2(1 + snr)"
   ]
  },
  {
   "cell_type": "markdown",
   "metadata": {},
   "source": [
    "However, this just is the bound and relies on a few assumptions, like infinite codewords, a random codebook and an AWGN channel. \n",
    "\n",
    "To calculate the possible throughput for LTE we have to multiply the available bandwidth with the efficiency of the chosen modulation and code rate. These values are chosen based on the CQI according to this table from the specification:\n",
    "\n",
    "# ![A table](another-figure.png)"
   ]
  },
  {
   "cell_type": "code",
   "execution_count": 71,
   "metadata": {},
   "outputs": [],
   "source": [
    "// Values from the table above\n",
    "const efficiencyValues = [\n",
    "  0, 0.1523, 0.2344, 0.377, 0.6016, 0.877, 1.1758, 1.4766, 1.9141, 2.4063,\n",
    "  2.7305, 3.3223, 3.9023, 4.5234, 5.1152, 5.5547,\n",
    "];\n",
    "\n",
    "const getEfficiency = (cqi: number) => {\n",
    "  const efficiency = efficiencyValues[cqi];\n",
    "  if (efficiency === undefined) {\n",
    "    throw new Error(\"CQI must be an integer between 0 and 15\");\n",
    "  }\n",
    "  return efficiency;\n",
    "};"
   ]
  },
  {
   "cell_type": "markdown",
   "metadata": {},
   "source": [
    "NOTE: There are also other tables, but we choose this one.\n",
    "\n",
    "To index the table we need the CQI value. The CQI is based on the SNR, we use the the function from the exercise sheet to convert them.\n",
    "\n",
    "# ![A table](that-figure.png)"
   ]
  },
  {
   "cell_type": "code",
   "execution_count": 72,
   "metadata": {},
   "outputs": [],
   "source": [
    "const snrToCqi = (snrDb: number) => {\n",
    "    const cqi = snrDb*0.525+4.5;\n",
    "    const clampedCqi = Math.max(0, Math.min(15, cqi));\n",
    "    const clampedAndRoundedCqi = Math.round(clampedCqi)\n",
    "    return clampedAndRoundedCqi\n",
    "}"
   ]
  },
  {
   "cell_type": "markdown",
   "metadata": {},
   "source": [
    "When we combine these two, we can calculate the throughput in based on the SNR and the bandwidth for LTE"
   ]
  },
  {
   "cell_type": "code",
   "execution_count": 73,
   "metadata": {},
   "outputs": [
    {
     "name": "stdout",
     "output_type": "stream",
     "text": [
      "The bandwidth for 20mHz and a SNR of 7dB is 38282000 bits per second\n"
     ]
    }
   ],
   "source": [
    "const lteThroughput = (snrDb: number, bandwidth: number)  => \n",
    "    bandwidth * getEfficiency(snrToCqi(snrDb))\n",
    "\n",
    "console.log(`The bandwidth for 20mHz and a SNR of 7dB is ${lteThroughput(7, 20e6)} bits per second`)"
   ]
  },
  {
   "cell_type": "markdown",
   "metadata": {},
   "source": [
    "If we compare that function with the channel capacity we can see that it is always slightly lower:"
   ]
  },
  {
   "cell_type": "code",
   "execution_count": 74,
   "metadata": {},
   "outputs": [
    {
     "data": {
      "application/vnd.vegalite.v5+json": {
       "$schema": "https://vega.github.io/schema/vega-lite/v5.json",
       "data": {
        "values": [
         {
          "Bits per Second": 898310.6203895153,
          "SNR (dB)": -15,
          "Type": "Channel capacity"
         },
         {
          "Bits per Second": 0,
          "SNR (dB)": -15,
          "Type": "LTE throughput"
         },
         {
          "Bits per Second": 939964.3754759976,
          "SNR (dB)": -14.8,
          "Type": "Channel capacity"
         },
         {
          "Bits per Second": 0,
          "SNR (dB)": -14.8,
          "Type": "LTE throughput"
         },
         {
          "Bits per Second": 983516.8579650713,
          "SNR (dB)": -14.6,
          "Type": "Channel capacity"
         },
         {
          "Bits per Second": 0,
          "SNR (dB)": -14.6,
          "Type": "LTE throughput"
         },
         {
          "Bits per Second": 1029051.5562359227,
          "SNR (dB)": -14.4,
          "Type": "Channel capacity"
         },
         {
          "Bits per Second": 0,
          "SNR (dB)": -14.4,
          "Type": "LTE throughput"
         },
         {
          "Bits per Second": 1076655.345283215,
          "SNR (dB)": -14.2,
          "Type": "Channel capacity"
         },
         {
          "Bits per Second": 0,
          "SNR (dB)": -14.2,
          "Type": "LTE throughput"
         },
         {
          "Bits per Second": 1126418.5977305684,
          "SNR (dB)": -14,
          "Type": "Channel capacity"
         },
         {
          "Bits per Second": 0,
          "SNR (dB)": -14,
          "Type": "LTE throughput"
         },
         {
          "Bits per Second": 1178435.295980146,
          "SNR (dB)": -13.8,
          "Type": "Channel capacity"
         },
         {
          "Bits per Second": 0,
          "SNR (dB)": -13.8,
          "Type": "LTE throughput"
         },
         {
          "Bits per Second": 1232803.145236419,
          "SNR (dB)": -13.6,
          "Type": "Channel capacity"
         },
         {
          "Bits per Second": 0,
          "SNR (dB)": -13.6,
          "Type": "LTE throughput"
         },
         {
          "Bits per Second": 1289623.6871097675,
          "SNR (dB)": -13.4,
          "Type": "Channel capacity"
         },
         {
          "Bits per Second": 0,
          "SNR (dB)": -13.4,
          "Type": "LTE throughput"
         },
         {
          "Bits per Second": 1349002.413470791,
          "SNR (dB)": -13.2,
          "Type": "Channel capacity"
         },
         {
          "Bits per Second": 0,
          "SNR (dB)": -13.2,
          "Type": "LTE throughput"
         },
         {
          "Bits per Second": 1411048.8801894744,
          "SNR (dB)": -13,
          "Type": "Channel capacity"
         },
         {
          "Bits per Second": 0,
          "SNR (dB)": -13,
          "Type": "LTE throughput"
         },
         {
          "Bits per Second": 1475876.8203538714,
          "SNR (dB)": -12.8,
          "Type": "Channel capacity"
         },
         {
          "Bits per Second": 0,
          "SNR (dB)": -12.8,
          "Type": "LTE throughput"
         },
         {
          "Bits per Second": 1543604.2565217682,
          "SNR (dB)": -12.6,
          "Type": "Channel capacity"
         },
         {
          "Bits per Second": 0,
          "SNR (dB)": -12.6,
          "Type": "LTE throughput"
         },
         {
          "Bits per Second": 1614353.6115149953,
          "SNR (dB)": -12.4,
          "Type": "Channel capacity"
         },
         {
          "Bits per Second": 0,
          "SNR (dB)": -12.4,
          "Type": "LTE throughput"
         },
         {
          "Bits per Second": 1688251.8172201712,
          "SNR (dB)": -12.2,
          "Type": "Channel capacity"
         },
         {
          "Bits per Second": 0,
          "SNR (dB)": -12.2,
          "Type": "LTE throughput"
         },
         {
          "Bits per Second": 1765430.420811844,
          "SNR (dB)": -12,
          "Type": "Channel capacity"
         },
         {
          "Bits per Second": 0,
          "SNR (dB)": -12,
          "Type": "LTE throughput"
         },
         {
          "Bits per Second": 1846025.6877640365,
          "SNR (dB)": -11.8,
          "Type": "Channel capacity"
         },
         {
          "Bits per Second": 0,
          "SNR (dB)": -11.8,
          "Type": "LTE throughput"
         },
         {
          "Bits per Second": 1930178.7009646082,
          "SNR (dB)": -11.6,
          "Type": "Channel capacity"
         },
         {
          "Bits per Second": 0,
          "SNR (dB)": -11.6,
          "Type": "LTE throughput"
         },
         {
          "Bits per Second": 2018035.455193633,
          "SNR (dB)": -11.4,
          "Type": "Channel capacity"
         },
         {
          "Bits per Second": 0,
          "SNR (dB)": -11.4,
          "Type": "LTE throughput"
         },
         {
          "Bits per Second": 2109746.946172536,
          "SNR (dB)": -11.2,
          "Type": "Channel capacity"
         },
         {
          "Bits per Second": 0,
          "SNR (dB)": -11.2,
          "Type": "LTE throughput"
         },
         {
          "Bits per Second": 2205469.2533352585,
          "SNR (dB)": -11,
          "Type": "Channel capacity"
         },
         {
          "Bits per Second": 0,
          "SNR (dB)": -11,
          "Type": "LTE throughput"
         },
         {
          "Bits per Second": 2305363.6154168393,
          "SNR (dB)": -10.8,
          "Type": "Channel capacity"
         },
         {
          "Bits per Second": 0,
          "SNR (dB)": -10.8,
          "Type": "LTE throughput"
         },
         {
          "Bits per Second": 2409596.4978985046,
          "SNR (dB)": -10.6,
          "Type": "Channel capacity"
         },
         {
          "Bits per Second": 0,
          "SNR (dB)": -10.6,
          "Type": "LTE throughput"
         },
         {
          "Bits per Second": 2518339.6512929425,
          "SNR (dB)": -10.399999999999999,
          "Type": "Channel capacity"
         },
         {
          "Bits per Second": 0,
          "SNR (dB)": -10.399999999999999,
          "Type": "LTE throughput"
         },
         {
          "Bits per Second": 2631770.15919853,
          "SNR (dB)": -10.2,
          "Type": "Channel capacity"
         },
         {
          "Bits per Second": 0,
          "SNR (dB)": -10.2,
          "Type": "LTE throughput"
         },
         {
          "Bits per Second": 2750070.4749987004,
          "SNR (dB)": -10,
          "Type": "Channel capacity"
         },
         {
          "Bits per Second": 0,
          "SNR (dB)": -10,
          "Type": "LTE throughput"
         },
         {
          "Bits per Second": 2873428.446031811,
          "SNR (dB)": -9.8,
          "Type": "Channel capacity"
         },
         {
          "Bits per Second": 0,
          "SNR (dB)": -9.8,
          "Type": "LTE throughput"
         },
         {
          "Bits per Second": 3002037.3240102925,
          "SNR (dB)": -9.6,
          "Type": "Channel capacity"
         },
         {
          "Bits per Second": 0,
          "SNR (dB)": -9.6,
          "Type": "LTE throughput"
         },
         {
          "Bits per Second": 3136095.7604246493,
          "SNR (dB)": -9.399999999999999,
          "Type": "Channel capacity"
         },
         {
          "Bits per Second": 0,
          "SNR (dB)": -9.399999999999999,
          "Type": "LTE throughput"
         },
         {
          "Bits per Second": 3275807.7856307714,
          "SNR (dB)": -9.2,
          "Type": "Channel capacity"
         },
         {
          "Bits per Second": 0,
          "SNR (dB)": -9.2,
          "Type": "LTE throughput"
         },
         {
          "Bits per Second": 3421382.7702879566,
          "SNR (dB)": -9,
          "Type": "Channel capacity"
         },
         {
          "Bits per Second": 0,
          "SNR (dB)": -9,
          "Type": "LTE throughput"
         },
         {
          "Bits per Second": 3573035.3677915693,
          "SNR (dB)": -8.8,
          "Type": "Channel capacity"
         },
         {
          "Bits per Second": 0,
          "SNR (dB)": -8.8,
          "Type": "LTE throughput"
         },
         {
          "Bits per Second": 3730985.4363300703,
          "SNR (dB)": -8.6,
          "Type": "Channel capacity"
         },
         {
          "Bits per Second": 0,
          "SNR (dB)": -8.6,
          "Type": "LTE throughput"
         },
         {
          "Bits per Second": 3895457.9391917256,
          "SNR (dB)": -8.399999999999999,
          "Type": "Channel capacity"
         },
         {
          "Bits per Second": 0,
          "SNR (dB)": -8.399999999999999,
          "Type": "LTE throughput"
         },
         {
          "Bits per Second": 4066682.8219538587,
          "SNR (dB)": -8.2,
          "Type": "Channel capacity"
         },
         {
          "Bits per Second": 0,
          "SNR (dB)": -8.2,
          "Type": "LTE throughput"
         },
         {
          "Bits per Second": 4244894.865207902,
          "SNR (dB)": -8,
          "Type": "Channel capacity"
         },
         {
          "Bits per Second": 0,
          "SNR (dB)": -8,
          "Type": "LTE throughput"
         },
         {
          "Bits per Second": 4430333.5115083,
          "SNR (dB)": -7.8,
          "Type": "Channel capacity"
         },
         {
          "Bits per Second": 0,
          "SNR (dB)": -7.8,
          "Type": "LTE throughput"
         },
         {
          "Bits per Second": 4623242.66528413,
          "SNR (dB)": -7.6,
          "Type": "Channel capacity"
         },
         {
          "Bits per Second": 3046000,
          "SNR (dB)": -7.6,
          "Type": "LTE throughput"
         },
         {
          "Bits per Second": 4823870.464520255,
          "SNR (dB)": -7.3999999999999995,
          "Type": "Channel capacity"
         },
         {
          "Bits per Second": 3046000,
          "SNR (dB)": -7.3999999999999995,
          "Type": "LTE throughput"
         },
         {
          "Bits per Second": 5032469.023101254,
          "SNR (dB)": -7.199999999999999,
          "Type": "Channel capacity"
         },
         {
          "Bits per Second": 3046000,
          "SNR (dB)": -7.199999999999999,
          "Type": "LTE throughput"
         },
         {
          "Bits per Second": 5249294.142817553,
          "SNR (dB)": -7,
          "Type": "Channel capacity"
         },
         {
          "Bits per Second": 3046000,
          "SNR (dB)": -7,
          "Type": "LTE throughput"
         },
         {
          "Bits per Second": 5474604.994160414,
          "SNR (dB)": -6.799999999999999,
          "Type": "Channel capacity"
         },
         {
          "Bits per Second": 3046000,
          "SNR (dB)": -6.799999999999999,
          "Type": "LTE throughput"
         },
         {
          "Bits per Second": 5708663.7651808765,
          "SNR (dB)": -6.6,
          "Type": "Channel capacity"
         },
         {
          "Bits per Second": 3046000,
          "SNR (dB)": -6.6,
          "Type": "LTE throughput"
         },
         {
          "Bits per Second": 5951735.27785896,
          "SNR (dB)": -6.4,
          "Type": "Channel capacity"
         },
         {
          "Bits per Second": 3046000,
          "SNR (dB)": -6.4,
          "Type": "LTE throughput"
         },
         {
          "Bits per Second": 6204086.571623192,
          "SNR (dB)": -6.199999999999999,
          "Type": "Channel capacity"
         },
         {
          "Bits per Second": 3046000,
          "SNR (dB)": -6.199999999999999,
          "Type": "LTE throughput"
         },
         {
          "Bits per Second": 6465986.453876848,
          "SNR (dB)": -6,
          "Type": "Channel capacity"
         },
         {
          "Bits per Second": 3046000,
          "SNR (dB)": -6,
          "Type": "LTE throughput"
         },
         {
          "Bits per Second": 6737705.017626693,
          "SNR (dB)": -5.799999999999999,
          "Type": "Channel capacity"
         },
         {
          "Bits per Second": 3046000,
          "SNR (dB)": -5.799999999999999,
          "Type": "LTE throughput"
         },
         {
          "Bits per Second": 7019513.126570326,
          "SNR (dB)": -5.6,
          "Type": "Channel capacity"
         },
         {
          "Bits per Second": 4688000,
          "SNR (dB)": -5.6,
          "Type": "LTE throughput"
         },
         {
          "Bits per Second": 7311681.868280105,
          "SNR (dB)": -5.399999999999999,
          "Type": "Channel capacity"
         },
         {
          "Bits per Second": 4688000,
          "SNR (dB)": -5.399999999999999,
          "Type": "LTE throughput"
         },
         {
          "Bits per Second": 7614481.976421619,
          "SNR (dB)": -5.199999999999999,
          "Type": "Channel capacity"
         },
         {
          "Bits per Second": 4688000,
          "SNR (dB)": -5.199999999999999,
          "Type": "LTE throughput"
         },
         {
          "Bits per Second": 7928183.223262277,
          "SNR (dB)": -5,
          "Type": "Channel capacity"
         },
         {
          "Bits per Second": 4688000,
          "SNR (dB)": -5,
          "Type": "LTE throughput"
         },
         {
          "Bits per Second": 8253053.784056694,
          "SNR (dB)": -4.799999999999999,
          "Type": "Channel capacity"
         },
         {
          "Bits per Second": 4688000,
          "SNR (dB)": -4.799999999999999,
          "Type": "LTE throughput"
         },
         {
          "Bits per Second": 8589359.575238144,
          "SNR (dB)": -4.6,
          "Type": "Channel capacity"
         },
         {
          "Bits per Second": 4688000,
          "SNR (dB)": -4.6,
          "Type": "LTE throughput"
         },
         {
          "Bits per Second": 8937363.568694822,
          "SNR (dB)": -4.399999999999999,
          "Type": "Channel capacity"
         },
         {
          "Bits per Second": 4688000,
          "SNR (dB)": -4.399999999999999,
          "Type": "LTE throughput"
         },
         {
          "Bits per Second": 9297325.084762199,
          "SNR (dB)": -4.199999999999999,
          "Type": "Channel capacity"
         },
         {
          "Bits per Second": 4688000,
          "SNR (dB)": -4.199999999999999,
          "Type": "LTE throughput"
         },
         {
          "Bits per Second": 9669499.066913605,
          "SNR (dB)": -4,
          "Type": "Channel capacity"
         },
         {
          "Bits per Second": 4688000,
          "SNR (dB)": -4,
          "Type": "LTE throughput"
         },
         {
          "Bits per Second": 10054135.341474852,
          "SNR (dB)": -3.799999999999999,
          "Type": "Channel capacity"
         },
         {
          "Bits per Second": 7540000,
          "SNR (dB)": -3.799999999999999,
          "Type": "LTE throughput"
         },
         {
          "Bits per Second": 10451477.866020003,
          "SNR (dB)": -3.5999999999999996,
          "Type": "Channel capacity"
         },
         {
          "Bits per Second": 7540000,
          "SNR (dB)": -3.5999999999999996,
          "Type": "LTE throughput"
         },
         {
          "Bits per Second": 10861763.970418712,
          "SNR (dB)": -3.3999999999999986,
          "Type": "Channel capacity"
         },
         {
          "Bits per Second": 7540000,
          "SNR (dB)": -3.3999999999999986,
          "Type": "LTE throughput"
         },
         {
          "Bits per Second": 11285223.594793843,
          "SNR (dB)": -3.1999999999999993,
          "Type": "Channel capacity"
         },
         {
          "Bits per Second": 7540000,
          "SNR (dB)": -3.1999999999999993,
          "Type": "LTE throughput"
         },
         {
          "Bits per Second": 11722078.528906949,
          "SNR (dB)": -3,
          "Type": "Channel capacity"
         },
         {
          "Bits per Second": 7540000,
          "SNR (dB)": -3,
          "Type": "LTE throughput"
         },
         {
          "Bits per Second": 12172541.657711182,
          "SNR (dB)": -2.799999999999999,
          "Type": "Channel capacity"
         },
         {
          "Bits per Second": 7540000,
          "SNR (dB)": -2.799999999999999,
          "Type": "LTE throughput"
         },
         {
          "Bits per Second": 12636816.217991488,
          "SNR (dB)": -2.5999999999999996,
          "Type": "Channel capacity"
         },
         {
          "Bits per Second": 7540000,
          "SNR (dB)": -2.5999999999999996,
          "Type": "LTE throughput"
         },
         {
          "Bits per Second": 13115095.0711448,
          "SNR (dB)": -2.3999999999999986,
          "Type": "Channel capacity"
         },
         {
          "Bits per Second": 7540000,
          "SNR (dB)": -2.3999999999999986,
          "Type": "LTE throughput"
         },
         {
          "Bits per Second": 13607559.99723357,
          "SNR (dB)": -2.1999999999999993,
          "Type": "Channel capacity"
         },
         {
          "Bits per Second": 7540000,
          "SNR (dB)": -2.1999999999999993,
          "Type": "LTE throughput"
         },
         {
          "Bits per Second": 14114381.01547027,
          "SNR (dB)": -2,
          "Type": "Channel capacity"
         },
         {
          "Bits per Second": 7540000,
          "SNR (dB)": -2,
          "Type": "LTE throughput"
         },
         {
          "Bits per Second": 14635715.736255055,
          "SNR (dB)": -1.799999999999999,
          "Type": "Channel capacity"
         },
         {
          "Bits per Second": 12032000,
          "SNR (dB)": -1.799999999999999,
          "Type": "LTE throughput"
         },
         {
          "Bits per Second": 15171708.74979104,
          "SNR (dB)": -1.5999999999999996,
          "Type": "Channel capacity"
         },
         {
          "Bits per Second": 12032000,
          "SNR (dB)": -1.5999999999999996,
          "Type": "LTE throughput"
         },
         {
          "Bits per Second": 15722491.056140685,
          "SNR (dB)": -1.3999999999999986,
          "Type": "Channel capacity"
         },
         {
          "Bits per Second": 12032000,
          "SNR (dB)": -1.3999999999999986,
          "Type": "LTE throughput"
         },
         {
          "Bits per Second": 16288179.541361634,
          "SNR (dB)": -1.1999999999999993,
          "Type": "Channel capacity"
         },
         {
          "Bits per Second": 12032000,
          "SNR (dB)": -1.1999999999999993,
          "Type": "LTE throughput"
         },
         {
          "Bits per Second": 16868876.50407305,
          "SNR (dB)": -1,
          "Type": "Channel capacity"
         },
         {
          "Bits per Second": 12032000,
          "SNR (dB)": -1,
          "Type": "LTE throughput"
         },
         {
          "Bits per Second": 17464669.236455154,
          "SNR (dB)": -0.7999999999999989,
          "Type": "Channel capacity"
         },
         {
          "Bits per Second": 12032000,
          "SNR (dB)": -0.7999999999999989,
          "Type": "LTE throughput"
         },
         {
          "Bits per Second": 18075629.663279805,
          "SNR (dB)": -0.5999999999999996,
          "Type": "Channel capacity"
         },
         {
          "Bits per Second": 12032000,
          "SNR (dB)": -0.5999999999999996,
          "Type": "LTE throughput"
         },
         {
          "Bits per Second": 18701814.042112682,
          "SNR (dB)": -0.3999999999999986,
          "Type": "Channel capacity"
         },
         {
          "Bits per Second": 12032000,
          "SNR (dB)": -0.3999999999999986,
          "Type": "LTE throughput"
         },
         {
          "Bits per Second": 19343262.727323763,
          "SNR (dB)": -0.1999999999999993,
          "Type": "Channel capacity"
         },
         {
          "Bits per Second": 12032000,
          "SNR (dB)": -0.1999999999999993,
          "Type": "LTE throughput"
         },
         {
          "Bits per Second": 20000000,
          "SNR (dB)": 0,
          "Type": "Channel capacity"
         },
         {
          "Bits per Second": 17540000,
          "SNR (dB)": 0,
          "Type": "LTE throughput"
         },
         {
          "Bits per Second": 20672033.965278707,
          "SNR (dB)": 0.20000000000000107,
          "Type": "Channel capacity"
         },
         {
          "Bits per Second": 17540000,
          "SNR (dB)": 0.20000000000000107,
          "Type": "LTE throughput"
         },
         {
          "Bits per Second": 21359356.51802257,
          "SNR (dB)": 0.40000000000000036,
          "Type": "Channel capacity"
         },
         {
          "Bits per Second": 17540000,
          "SNR (dB)": 0.40000000000000036,
          "Type": "LTE throughput"
         },
         {
          "Bits per Second": 22061943.377144642,
          "SNR (dB)": 0.6000000000000014,
          "Type": "Channel capacity"
         },
         {
          "Bits per Second": 17540000,
          "SNR (dB)": 0.6000000000000014,
          "Type": "LTE throughput"
         },
         {
          "Bits per Second": 22779754.188274935,
          "SNR (dB)": 0.8000000000000007,
          "Type": "Channel capacity"
         },
         {
          "Bits per Second": 17540000,
          "SNR (dB)": 0.8000000000000007,
          "Type": "LTE throughput"
         },
         {
          "Bits per Second": 23512732.693847775,
          "SNR (dB)": 1,
          "Type": "Channel capacity"
         },
         {
          "Bits per Second": 17540000,
          "SNR (dB)": 1,
          "Type": "LTE throughput"
         },
         {
          "Bits per Second": 24260806.969091304,
          "SNR (dB)": 1.1999999999999993,
          "Type": "Channel capacity"
         },
         {
          "Bits per Second": 17540000,
          "SNR (dB)": 1.1999999999999993,
          "Type": "LTE throughput"
         },
         {
          "Bits per Second": 25023889.72182531,
          "SNR (dB)": 1.4000000000000021,
          "Type": "Channel capacity"
         },
         {
          "Bits per Second": 17540000,
          "SNR (dB)": 1.4000000000000021,
          "Type": "LTE throughput"
         },
         {
          "Bits per Second": 25801878.653430603,
          "SNR (dB)": 1.6000000000000014,
          "Type": "Channel capacity"
         },
         {
          "Bits per Second": 17540000,
          "SNR (dB)": 1.6000000000000014,
          "Type": "LTE throughput"
         },
         {
          "Bits per Second": 26594656.87784956,
          "SNR (dB)": 1.8000000000000007,
          "Type": "Channel capacity"
         },
         {
          "Bits per Second": 17540000,
          "SNR (dB)": 1.8000000000000007,
          "Type": "LTE throughput"
         },
         {
          "Bits per Second": 27402093.395019725,
          "SNR (dB)": 2,
          "Type": "Channel capacity"
         },
         {
          "Bits per Second": 23516000,
          "SNR (dB)": 2,
          "Type": "LTE throughput"
         },
         {
          "Bits per Second": 28224043.614737958,
          "SNR (dB)": 2.1999999999999993,
          "Type": "Channel capacity"
         },
         {
          "Bits per Second": 23516000,
          "SNR (dB)": 2.1999999999999993,
          "Type": "LTE throughput"
         },
         {
          "Bits per Second": 29060349.926604148,
          "SNR (dB)": 2.400000000000002,
          "Type": "Channel capacity"
         },
         {
          "Bits per Second": 23516000,
          "SNR (dB)": 2.400000000000002,
          "Type": "LTE throughput"
         },
         {
          "Bits per Second": 29910842.311405778,
          "SNR (dB)": 2.6000000000000014,
          "Type": "Channel capacity"
         },
         {
          "Bits per Second": 23516000,
          "SNR (dB)": 2.6000000000000014,
          "Type": "LTE throughput"
         },
         {
          "Bits per Second": 30775338.989080418,
          "SNR (dB)": 2.8000000000000007,
          "Type": "Channel capacity"
         },
         {
          "Bits per Second": 23516000,
          "SNR (dB)": 2.8000000000000007,
          "Type": "LTE throughput"
         },
         {
          "Bits per Second": 31653647.098231126,
          "SNR (dB)": 3,
          "Type": "Channel capacity"
         },
         {
          "Bits per Second": 23516000,
          "SNR (dB)": 3,
          "Type": "LTE throughput"
         },
         {
          "Bits per Second": 32545563.402072962,
          "SNR (dB)": 3.1999999999999993,
          "Type": "Channel capacity"
         },
         {
          "Bits per Second": 23516000,
          "SNR (dB)": 3.1999999999999993,
          "Type": "LTE throughput"
         },
         {
          "Bits per Second": 33450875.01565278,
          "SNR (dB)": 3.400000000000002,
          "Type": "Channel capacity"
         },
         {
          "Bits per Second": 23516000,
          "SNR (dB)": 3.400000000000002,
          "Type": "LTE throughput"
         },
         {
          "Bits per Second": 34369360.149209015,
          "SNR (dB)": 3.6000000000000014,
          "Type": "Channel capacity"
         },
         {
          "Bits per Second": 23516000,
          "SNR (dB)": 3.6000000000000014,
          "Type": "LTE throughput"
         },
         {
          "Bits per Second": 35300788.862618804,
          "SNR (dB)": 3.8000000000000007,
          "Type": "Channel capacity"
         },
         {
          "Bits per Second": 23516000,
          "SNR (dB)": 3.8000000000000007,
          "Type": "LTE throughput"
         },
         {
          "Bits per Second": 36244923.82601251,
          "SNR (dB)": 4,
          "Type": "Channel capacity"
         },
         {
          "Bits per Second": 29532000,
          "SNR (dB)": 4,
          "Type": "LTE throughput"
         },
         {
          "Bits per Second": 37201521.081816055,
          "SNR (dB)": 4.200000000000003,
          "Type": "Channel capacity"
         },
         {
          "Bits per Second": 29532000,
          "SNR (dB)": 4.200000000000003,
          "Type": "LTE throughput"
         },
         {
          "Bits per Second": 38170330.80370362,
          "SNR (dB)": 4.400000000000002,
          "Type": "Channel capacity"
         },
         {
          "Bits per Second": 29532000,
          "SNR (dB)": 4.400000000000002,
          "Type": "LTE throughput"
         },
         {
          "Bits per Second": 39151098.04820188,
          "SNR (dB)": 4.600000000000001,
          "Type": "Channel capacity"
         },
         {
          "Bits per Second": 29532000,
          "SNR (dB)": 4.600000000000001,
          "Type": "LTE throughput"
         },
         {
          "Bits per Second": 40143563.49497538,
          "SNR (dB)": 4.800000000000001,
          "Type": "Channel capacity"
         },
         {
          "Bits per Second": 29532000,
          "SNR (dB)": 4.800000000000001,
          "Type": "LTE throughput"
         },
         {
          "Bits per Second": 41147464.172135904,
          "SNR (dB)": 5,
          "Type": "Channel capacity"
         },
         {
          "Bits per Second": 29532000,
          "SNR (dB)": 5,
          "Type": "LTE throughput"
         },
         {
          "Bits per Second": 42162534.1632502,
          "SNR (dB)": 5.200000000000003,
          "Type": "Channel capacity"
         },
         {
          "Bits per Second": 29532000,
          "SNR (dB)": 5.200000000000003,
          "Type": "LTE throughput"
         },
         {
          "Bits per Second": 43188505.293063626,
          "SNR (dB)": 5.400000000000002,
          "Type": "Channel capacity"
         },
         {
          "Bits per Second": 29532000,
          "SNR (dB)": 5.400000000000002,
          "Type": "LTE throughput"
         },
         {
          "Bits per Second": 44225107.789308794,
          "SNR (dB)": 5.600000000000001,
          "Type": "Channel capacity"
         },
         {
          "Bits per Second": 29532000,
          "SNR (dB)": 5.600000000000001,
          "Type": "LTE throughput"
         },
         {
          "Bits per Second": 45272070.918320104,
          "SNR (dB)": 5.800000000000001,
          "Type": "Channel capacity"
         },
         {
          "Bits per Second": 38282000,
          "SNR (dB)": 5.800000000000001,
          "Type": "LTE throughput"
         },
         {
          "Bits per Second": 46329123.59252519,
          "SNR (dB)": 6,
          "Type": "Channel capacity"
         },
         {
          "Bits per Second": 38282000,
          "SNR (dB)": 6,
          "Type": "LTE throughput"
         },
         {
          "Bits per Second": 47395994.948226504,
          "SNR (dB)": 6.200000000000003,
          "Type": "Channel capacity"
         },
         {
          "Bits per Second": 38282000,
          "SNR (dB)": 6.200000000000003,
          "Type": "LTE throughput"
         },
         {
          "Bits per Second": 48472414.892417215,
          "SNR (dB)": 6.400000000000002,
          "Type": "Channel capacity"
         },
         {
          "Bits per Second": 38282000,
          "SNR (dB)": 6.400000000000002,
          "Type": "LTE throughput"
         },
         {
          "Bits per Second": 49558114.617694065,
          "SNR (dB)": 6.600000000000001,
          "Type": "Channel capacity"
         },
         {
          "Bits per Second": 38282000,
          "SNR (dB)": 6.600000000000001,
          "Type": "LTE throughput"
         },
         {
          "Bits per Second": 50652827.084628545,
          "SNR (dB)": 6.800000000000001,
          "Type": "Channel capacity"
         },
         {
          "Bits per Second": 38282000,
          "SNR (dB)": 6.800000000000001,
          "Type": "LTE throughput"
         },
         {
          "Bits per Second": 51756287.47124062,
          "SNR (dB)": 7,
          "Type": "Channel capacity"
         },
         {
          "Bits per Second": 38282000,
          "SNR (dB)": 7,
          "Type": "LTE throughput"
         },
         {
          "Bits per Second": 52868233.58947929,
          "SNR (dB)": 7.200000000000003,
          "Type": "Channel capacity"
         },
         {
          "Bits per Second": 38282000,
          "SNR (dB)": 7.200000000000003,
          "Type": "LTE throughput"
         },
         {
          "Bits per Second": 53988406.26885323,
          "SNR (dB)": 7.400000000000002,
          "Type": "Channel capacity"
         },
         {
          "Bits per Second": 38282000,
          "SNR (dB)": 7.400000000000002,
          "Type": "LTE throughput"
         },
         {
          "Bits per Second": 55116549.70757204,
          "SNR (dB)": 7.600000000000001,
          "Type": "Channel capacity"
         },
         {
          "Bits per Second": 38282000,
          "SNR (dB)": 7.600000000000001,
          "Type": "LTE throughput"
         },
         {
          "Bits per Second": 56252411.791751154,
          "SNR (dB)": 7.800000000000001,
          "Type": "Channel capacity"
         },
         {
          "Bits per Second": 48126000,
          "SNR (dB)": 7.800000000000001,
          "Type": "LTE throughput"
         },
         {
          "Bits per Second": 57395744.38340571,
          "SNR (dB)": 8,
          "Type": "Channel capacity"
         },
         {
          "Bits per Second": 48126000,
          "SNR (dB)": 8,
          "Type": "LTE throughput"
         },
         {
          "Bits per Second": 58546303.57810662,
          "SNR (dB)": 8.200000000000003,
          "Type": "Channel capacity"
         },
         {
          "Bits per Second": 48126000,
          "SNR (dB)": 8.200000000000003,
          "Type": "LTE throughput"
         },
         {
          "Bits per Second": 59703849.93329942,
          "SNR (dB)": 8.400000000000002,
          "Type": "Channel capacity"
         },
         {
          "Bits per Second": 48126000,
          "SNR (dB)": 8.400000000000002,
          "Type": "LTE throughput"
         },
         {
          "Bits per Second": 60868148.66839271,
          "SNR (dB)": 8.600000000000001,
          "Type": "Channel capacity"
         },
         {
          "Bits per Second": 48126000,
          "SNR (dB)": 8.600000000000001,
          "Type": "LTE throughput"
         },
         {
          "Bits per Second": 62038969.837809145,
          "SNR (dB)": 8.8,
          "Type": "Channel capacity"
         },
         {
          "Bits per Second": 48126000,
          "SNR (dB)": 8.8,
          "Type": "LTE throughput"
         },
         {
          "Bits per Second": 63216088.47826048,
          "SNR (dB)": 9,
          "Type": "Channel capacity"
         },
         {
          "Bits per Second": 48126000,
          "SNR (dB)": 9,
          "Type": "LTE throughput"
         },
         {
          "Bits per Second": 64399284.73155825,
          "SNR (dB)": 9.200000000000003,
          "Type": "Channel capacity"
         },
         {
          "Bits per Second": 48126000,
          "SNR (dB)": 9.200000000000003,
          "Type": "LTE throughput"
         },
         {
          "Bits per Second": 65588343.94430707,
          "SNR (dB)": 9.400000000000002,
          "Type": "Channel capacity"
         },
         {
          "Bits per Second": 48126000,
          "SNR (dB)": 9.400000000000002,
          "Type": "LTE throughput"
         },
         {
          "Bits per Second": 66783056.745847665,
          "SNR (dB)": 9.600000000000001,
          "Type": "Channel capacity"
         },
         {
          "Bits per Second": 54610000,
          "SNR (dB)": 9.600000000000001,
          "Type": "LTE throughput"
         },
         {
          "Bits per Second": 67983219.10582411,
          "SNR (dB)": 9.8,
          "Type": "Channel capacity"
         },
         {
          "Bits per Second": 54610000,
          "SNR (dB)": 9.8,
          "Type": "LTE throughput"
         },
         {
          "Bits per Second": 69188632.37274595,
          "SNR (dB)": 10,
          "Type": "Channel capacity"
         },
         {
          "Bits per Second": 54610000,
          "SNR (dB)": 10,
          "Type": "LTE throughput"
         },
         {
          "Bits per Second": 70399103.29490075,
          "SNR (dB)": 10.200000000000003,
          "Type": "Channel capacity"
         },
         {
          "Bits per Second": 54610000,
          "SNR (dB)": 10.200000000000003,
          "Type": "LTE throughput"
         },
         {
          "Bits per Second": 71614444.02495009,
          "SNR (dB)": 10.400000000000002,
          "Type": "Channel capacity"
         },
         {
          "Bits per Second": 54610000,
          "SNR (dB)": 10.400000000000002,
          "Type": "LTE throughput"
         },
         {
          "Bits per Second": 72834472.10951059,
          "SNR (dB)": 10.600000000000001,
          "Type": "Channel capacity"
         },
         {
          "Bits per Second": 54610000,
          "SNR (dB)": 10.600000000000001,
          "Type": "LTE throughput"
         },
         {
          "Bits per Second": 74059010.46498387,
          "SNR (dB)": 10.8,
          "Type": "Channel capacity"
         },
         {
          "Bits per Second": 54610000,
          "SNR (dB)": 10.8,
          "Type": "LTE throughput"
         },
         {
          "Bits per Second": 75287887.34085724,
          "SNR (dB)": 11,
          "Type": "Channel capacity"
         },
         {
          "Bits per Second": 54610000,
          "SNR (dB)": 11,
          "Type": "LTE throughput"
         },
         {
          "Bits per Second": 76520936.27164948,
          "SNR (dB)": 11.200000000000003,
          "Type": "Channel capacity"
         },
         {
          "Bits per Second": 54610000,
          "SNR (dB)": 11.200000000000003,
          "Type": "LTE throughput"
         },
         {
          "Bits per Second": 77757996.0186255,
          "SNR (dB)": 11.400000000000002,
          "Type": "Channel capacity"
         },
         {
          "Bits per Second": 54610000,
          "SNR (dB)": 11.400000000000002,
          "Type": "LTE throughput"
         },
         {
          "Bits per Second": 78998910.50235142,
          "SNR (dB)": 11.600000000000001,
          "Type": "Channel capacity"
         },
         {
          "Bits per Second": 66445999.99999999,
          "SNR (dB)": 11.600000000000001,
          "Type": "LTE throughput"
         },
         {
          "Bits per Second": 80243528.7271058,
          "SNR (dB)": 11.8,
          "Type": "Channel capacity"
         },
         {
          "Bits per Second": 66445999.99999999,
          "SNR (dB)": 11.8,
          "Type": "LTE throughput"
         },
         {
          "Bits per Second": 81491704.69810852,
          "SNR (dB)": 12,
          "Type": "Channel capacity"
         },
         {
          "Bits per Second": 66445999.99999999,
          "SNR (dB)": 12,
          "Type": "LTE throughput"
         },
         {
          "Bits per Second": 82743297.33247182,
          "SNR (dB)": 12.200000000000003,
          "Type": "Channel capacity"
         },
         {
          "Bits per Second": 66445999.99999999,
          "SNR (dB)": 12.200000000000003,
          "Type": "LTE throughput"
         },
         {
          "Bits per Second": 83998170.3647216,
          "SNR (dB)": 12.400000000000002,
          "Type": "Channel capacity"
         },
         {
          "Bits per Second": 66445999.99999999,
          "SNR (dB)": 12.400000000000002,
          "Type": "LTE throughput"
         },
         {
          "Bits per Second": 85256192.2476833,
          "SNR (dB)": 12.600000000000001,
          "Type": "Channel capacity"
         },
         {
          "Bits per Second": 66445999.99999999,
          "SNR (dB)": 12.600000000000001,
          "Type": "LTE throughput"
         },
         {
          "Bits per Second": 86517236.04947035,
          "SNR (dB)": 12.8,
          "Type": "Channel capacity"
         },
         {
          "Bits per Second": 66445999.99999999,
          "SNR (dB)": 12.8,
          "Type": "LTE throughput"
         },
         {
          "Bits per Second": 87781179.3472609,
          "SNR (dB)": 13,
          "Type": "Channel capacity"
         },
         {
          "Bits per Second": 66445999.99999999,
          "SNR (dB)": 13,
          "Type": "LTE throughput"
         },
         {
          "Bits per Second": 89047904.11849718,
          "SNR (dB)": 13.200000000000003,
          "Type": "Channel capacity"
         },
         {
          "Bits per Second": 66445999.99999999,
          "SNR (dB)": 13.200000000000003,
          "Type": "LTE throughput"
         },
         {
          "Bits per Second": 90317296.63009109,
          "SNR (dB)": 13.400000000000002,
          "Type": "Channel capacity"
         },
         {
          "Bits per Second": 78046000,
          "SNR (dB)": 13.400000000000002,
          "Type": "LTE throughput"
         },
         {
          "Bits per Second": 91589247.3261727,
          "SNR (dB)": 13.600000000000001,
          "Type": "Channel capacity"
         },
         {
          "Bits per Second": 78046000,
          "SNR (dB)": 13.600000000000001,
          "Type": "LTE throughput"
         },
         {
          "Bits per Second": 92863650.71487136,
          "SNR (dB)": 13.8,
          "Type": "Channel capacity"
         },
         {
          "Bits per Second": 78046000,
          "SNR (dB)": 13.8,
          "Type": "LTE throughput"
         },
         {
          "Bits per Second": 94140405.2545767,
          "SNR (dB)": 14,
          "Type": "Channel capacity"
         },
         {
          "Bits per Second": 78046000,
          "SNR (dB)": 14,
          "Type": "LTE throughput"
         },
         {
          "Bits per Second": 95419413.24008434,
          "SNR (dB)": 14.200000000000003,
          "Type": "Channel capacity"
         },
         {
          "Bits per Second": 78046000,
          "SNR (dB)": 14.200000000000003,
          "Type": "LTE throughput"
         },
         {
          "Bits per Second": 96700580.68899196,
          "SNR (dB)": 14.400000000000002,
          "Type": "Channel capacity"
         },
         {
          "Bits per Second": 78046000,
          "SNR (dB)": 14.400000000000002,
          "Type": "LTE throughput"
         },
         {
          "Bits per Second": 97983817.22867607,
          "SNR (dB)": 14.600000000000001,
          "Type": "Channel capacity"
         },
         {
          "Bits per Second": 78046000,
          "SNR (dB)": 14.600000000000001,
          "Type": "LTE throughput"
         },
         {
          "Bits per Second": 99269035.98414192,
          "SNR (dB)": 14.8,
          "Type": "Channel capacity"
         },
         {
          "Bits per Second": 78046000,
          "SNR (dB)": 14.8,
          "Type": "LTE throughput"
         },
         {
          "Bits per Second": 100556153.4670104,
          "SNR (dB)": 15,
          "Type": "Channel capacity"
         },
         {
          "Bits per Second": 78046000,
          "SNR (dB)": 15,
          "Type": "LTE throughput"
         },
         {
          "Bits per Second": 101845089.46587192,
          "SNR (dB)": 15.200000000000003,
          "Type": "Channel capacity"
         },
         {
          "Bits per Second": 78046000,
          "SNR (dB)": 15.200000000000003,
          "Type": "LTE throughput"
         },
         {
          "Bits per Second": 103135766.938212,
          "SNR (dB)": 15.400000000000002,
          "Type": "Channel capacity"
         },
         {
          "Bits per Second": 90468000,
          "SNR (dB)": 15.400000000000002,
          "Type": "LTE throughput"
         },
         {
          "Bits per Second": 104428111.90408477,
          "SNR (dB)": 15.600000000000001,
          "Type": "Channel capacity"
         },
         {
          "Bits per Second": 90468000,
          "SNR (dB)": 15.600000000000001,
          "Type": "LTE throughput"
         },
         {
          "Bits per Second": 105722053.34168833,
          "SNR (dB)": 15.8,
          "Type": "Channel capacity"
         },
         {
          "Bits per Second": 90468000,
          "SNR (dB)": 15.8,
          "Type": "LTE throughput"
         },
         {
          "Bits per Second": 107017523.08497205,
          "SNR (dB)": 16,
          "Type": "Channel capacity"
         },
         {
          "Bits per Second": 90468000,
          "SNR (dB)": 16,
          "Type": "LTE throughput"
         },
         {
          "Bits per Second": 108314455.72338656,
          "SNR (dB)": 16.200000000000003,
          "Type": "Channel capacity"
         },
         {
          "Bits per Second": 90468000,
          "SNR (dB)": 16.200000000000003,
          "Type": "LTE throughput"
         },
         {
          "Bits per Second": 109612788.50386769,
          "SNR (dB)": 16.400000000000002,
          "Type": "Channel capacity"
         },
         {
          "Bits per Second": 90468000,
          "SNR (dB)": 16.400000000000002,
          "Type": "LTE throughput"
         },
         {
          "Bits per Second": 110912461.23512882,
          "SNR (dB)": 16.6,
          "Type": "Channel capacity"
         },
         {
          "Bits per Second": 90468000,
          "SNR (dB)": 16.6,
          "Type": "LTE throughput"
         },
         {
          "Bits per Second": 112213416.19431986,
          "SNR (dB)": 16.8,
          "Type": "Channel capacity"
         },
         {
          "Bits per Second": 90468000,
          "SNR (dB)": 16.8,
          "Type": "LTE throughput"
         },
         {
          "Bits per Second": 113515598.03609768,
          "SNR (dB)": 17,
          "Type": "Channel capacity"
         },
         {
          "Bits per Second": 90468000,
          "SNR (dB)": 17,
          "Type": "LTE throughput"
         },
         {
          "Bits per Second": 114818953.7041393,
          "SNR (dB)": 17.200000000000003,
          "Type": "Channel capacity"
         },
         {
          "Bits per Second": 102304000,
          "SNR (dB)": 17.200000000000003,
          "Type": "LTE throughput"
         },
         {
          "Bits per Second": 116123432.34511757,
          "SNR (dB)": 17.4,
          "Type": "Channel capacity"
         },
         {
          "Bits per Second": 102304000,
          "SNR (dB)": 17.4,
          "Type": "LTE throughput"
         },
         {
          "Bits per Second": 117428985.22514914,
          "SNR (dB)": 17.6,
          "Type": "Channel capacity"
         },
         {
          "Bits per Second": 102304000,
          "SNR (dB)": 17.6,
          "Type": "LTE throughput"
         },
         {
          "Bits per Second": 118735565.64871405,
          "SNR (dB)": 17.800000000000004,
          "Type": "Channel capacity"
         },
         {
          "Bits per Second": 102304000,
          "SNR (dB)": 17.800000000000004,
          "Type": "LTE throughput"
         },
         {
          "Bits per Second": 120043128.8800396,
          "SNR (dB)": 18,
          "Type": "Channel capacity"
         },
         {
          "Bits per Second": 102304000,
          "SNR (dB)": 18,
          "Type": "LTE throughput"
         },
         {
          "Bits per Second": 121351632.06693205,
          "SNR (dB)": 18.200000000000003,
          "Type": "Channel capacity"
         },
         {
          "Bits per Second": 102304000,
          "SNR (dB)": 18.200000000000003,
          "Type": "LTE throughput"
         },
         {
          "Bits per Second": 122661034.16703375,
          "SNR (dB)": 18.4,
          "Type": "Channel capacity"
         },
         {
          "Bits per Second": 102304000,
          "SNR (dB)": 18.4,
          "Type": "LTE throughput"
         },
         {
          "Bits per Second": 123971295.87647872,
          "SNR (dB)": 18.6,
          "Type": "Channel capacity"
         },
         {
          "Bits per Second": 102304000,
          "SNR (dB)": 18.6,
          "Type": "LTE throughput"
         },
         {
          "Bits per Second": 125282379.56091224,
          "SNR (dB)": 18.800000000000004,
          "Type": "Channel capacity"
         },
         {
          "Bits per Second": 102304000,
          "SNR (dB)": 18.800000000000004,
          "Type": "LTE throughput"
         },
         {
          "Bits per Second": 126594249.18883818,
          "SNR (dB)": 19,
          "Type": "Channel capacity"
         },
         {
          "Bits per Second": 102304000,
          "SNR (dB)": 19,
          "Type": "LTE throughput"
         },
         {
          "Bits per Second": 127906870.26725276,
          "SNR (dB)": 19.200000000000003,
          "Type": "Channel capacity"
         },
         {
          "Bits per Second": 111094000.00000001,
          "SNR (dB)": 19.200000000000003,
          "Type": "LTE throughput"
         },
         {
          "Bits per Second": 129220209.7795195,
          "SNR (dB)": 19.4,
          "Type": "Channel capacity"
         },
         {
          "Bits per Second": 111094000.00000001,
          "SNR (dB)": 19.4,
          "Type": "LTE throughput"
         },
         {
          "Bits per Second": 130534236.1254403,
          "SNR (dB)": 19.6,
          "Type": "Channel capacity"
         },
         {
          "Bits per Second": 111094000.00000001,
          "SNR (dB)": 19.6,
          "Type": "LTE throughput"
         },
         {
          "Bits per Second": 131848919.06347156,
          "SNR (dB)": 19.800000000000004,
          "Type": "Channel capacity"
         },
         {
          "Bits per Second": 111094000.00000001,
          "SNR (dB)": 19.800000000000004,
          "Type": "LTE throughput"
         },
         {
          "Bits per Second": 133164229.6550359,
          "SNR (dB)": 20,
          "Type": "Channel capacity"
         },
         {
          "Bits per Second": 111094000.00000001,
          "SNR (dB)": 20,
          "Type": "LTE throughput"
         },
         {
          "Bits per Second": 134480140.2108768,
          "SNR (dB)": 20.200000000000003,
          "Type": "Channel capacity"
         },
         {
          "Bits per Second": 111094000.00000001,
          "SNR (dB)": 20.200000000000003,
          "Type": "LTE throughput"
         },
         {
          "Bits per Second": 135796624.23940212,
          "SNR (dB)": 20.4,
          "Type": "Channel capacity"
         },
         {
          "Bits per Second": 111094000.00000001,
          "SNR (dB)": 20.4,
          "Type": "LTE throughput"
         },
         {
          "Bits per Second": 137113656.39696425,
          "SNR (dB)": 20.6,
          "Type": "Channel capacity"
         },
         {
          "Bits per Second": 111094000.00000001,
          "SNR (dB)": 20.6,
          "Type": "LTE throughput"
         },
         {
          "Bits per Second": 138431212.4400202,
          "SNR (dB)": 20.800000000000004,
          "Type": "Channel capacity"
         },
         {
          "Bits per Second": 111094000.00000001,
          "SNR (dB)": 20.800000000000004,
          "Type": "LTE throughput"
         },
         {
          "Bits per Second": 139749269.17911845,
          "SNR (dB)": 21,
          "Type": "Channel capacity"
         },
         {
          "Bits per Second": 111094000.00000001,
          "SNR (dB)": 21,
          "Type": "LTE throughput"
         },
         {
          "Bits per Second": 141067804.4346579,
          "SNR (dB)": 21.200000000000003,
          "Type": "Channel capacity"
         },
         {
          "Bits per Second": 111094000.00000001,
          "SNR (dB)": 21.200000000000003,
          "Type": "LTE throughput"
         },
         {
          "Bits per Second": 142386796.99436307,
          "SNR (dB)": 21.4,
          "Type": "Channel capacity"
         },
         {
          "Bits per Second": 111094000.00000001,
          "SNR (dB)": 21.4,
          "Type": "LTE throughput"
         },
         {
          "Bits per Second": 143706226.57242307,
          "SNR (dB)": 21.6,
          "Type": "Channel capacity"
         },
         {
          "Bits per Second": 111094000.00000001,
          "SNR (dB)": 21.6,
          "Type": "LTE throughput"
         },
         {
          "Bits per Second": 145026073.7702395,
          "SNR (dB)": 21.800000000000004,
          "Type": "Channel capacity"
         },
         {
          "Bits per Second": 111094000.00000001,
          "SNR (dB)": 21.800000000000004,
          "Type": "LTE throughput"
         },
         {
          "Bits per Second": 146346320.03873095,
          "SNR (dB)": 22,
          "Type": "Channel capacity"
         },
         {
          "Bits per Second": 111094000.00000001,
          "SNR (dB)": 22,
          "Type": "LTE throughput"
         },
         {
          "Bits per Second": 147666947.64214203,
          "SNR (dB)": 22.200000000000003,
          "Type": "Channel capacity"
         },
         {
          "Bits per Second": 111094000.00000001,
          "SNR (dB)": 22.200000000000003,
          "Type": "LTE throughput"
         },
         {
          "Bits per Second": 148987939.62330475,
          "SNR (dB)": 22.4,
          "Type": "Channel capacity"
         },
         {
          "Bits per Second": 111094000.00000001,
          "SNR (dB)": 22.4,
          "Type": "LTE throughput"
         },
         {
          "Bits per Second": 150309279.77030298,
          "SNR (dB)": 22.6,
          "Type": "Channel capacity"
         },
         {
          "Bits per Second": 111094000.00000001,
          "SNR (dB)": 22.6,
          "Type": "LTE throughput"
         },
         {
          "Bits per Second": 151630952.58448943,
          "SNR (dB)": 22.800000000000004,
          "Type": "Channel capacity"
         },
         {
          "Bits per Second": 111094000.00000001,
          "SNR (dB)": 22.800000000000004,
          "Type": "LTE throughput"
         },
         {
          "Bits per Second": 152952943.24980813,
          "SNR (dB)": 23,
          "Type": "Channel capacity"
         },
         {
          "Bits per Second": 111094000.00000001,
          "SNR (dB)": 23,
          "Type": "LTE throughput"
         },
         {
          "Bits per Second": 154275237.60337412,
          "SNR (dB)": 23.200000000000003,
          "Type": "Channel capacity"
         },
         {
          "Bits per Second": 111094000.00000001,
          "SNR (dB)": 23.200000000000003,
          "Type": "LTE throughput"
         },
         {
          "Bits per Second": 155597822.10726455,
          "SNR (dB)": 23.400000000000006,
          "Type": "Channel capacity"
         },
         {
          "Bits per Second": 111094000.00000001,
          "SNR (dB)": 23.400000000000006,
          "Type": "LTE throughput"
         },
         {
          "Bits per Second": 156920683.82147688,
          "SNR (dB)": 23.6,
          "Type": "Channel capacity"
         },
         {
          "Bits per Second": 111094000.00000001,
          "SNR (dB)": 23.6,
          "Type": "LTE throughput"
         },
         {
          "Bits per Second": 158243810.37800986,
          "SNR (dB)": 23.800000000000004,
          "Type": "Channel capacity"
         },
         {
          "Bits per Second": 111094000.00000001,
          "SNR (dB)": 23.800000000000004,
          "Type": "LTE throughput"
         },
         {
          "Bits per Second": 159567189.95602494,
          "SNR (dB)": 24,
          "Type": "Channel capacity"
         },
         {
          "Bits per Second": 111094000.00000001,
          "SNR (dB)": 24,
          "Type": "LTE throughput"
         },
         {
          "Bits per Second": 160890811.25804752,
          "SNR (dB)": 24.200000000000003,
          "Type": "Channel capacity"
         },
         {
          "Bits per Second": 111094000.00000001,
          "SNR (dB)": 24.200000000000003,
          "Type": "LTE throughput"
         },
         {
          "Bits per Second": 162214663.4871668,
          "SNR (dB)": 24.400000000000006,
          "Type": "Channel capacity"
         },
         {
          "Bits per Second": 111094000.00000001,
          "SNR (dB)": 24.400000000000006,
          "Type": "LTE throughput"
         },
         {
          "Bits per Second": 163538736.32519653,
          "SNR (dB)": 24.6,
          "Type": "Channel capacity"
         },
         {
          "Bits per Second": 111094000.00000001,
          "SNR (dB)": 24.6,
          "Type": "LTE throughput"
         },
         {
          "Bits per Second": 164863019.9117593,
          "SNR (dB)": 24.800000000000004,
          "Type": "Channel capacity"
         },
         {
          "Bits per Second": 111094000.00000001,
          "SNR (dB)": 24.800000000000004,
          "Type": "LTE throughput"
         }
        ]
       },
       "encoding": {
        "color": {
         "field": "Type"
        },
        "x": {
         "field": "SNR (dB)",
         "type": "quantitative"
        },
        "y": {
         "field": "Bits per Second",
         "type": "quantitative"
        }
       },
       "height": 400,
       "mark": {
        "type": "line"
       },
       "width": 700
      }
     },
     "execution_count": 74,
     "metadata": {},
     "output_type": "execute_result"
    }
   ],
   "source": [
    "import vl from \"npm:vega-lite-api\"\n",
    "\n",
    "type PlotConfig = {\n",
    "    /** Plot a single function */\n",
    "    fn?: (x: number) => number,\n",
    "    /** Plot a multiple functions */\n",
    "    fns?: Array<[string, (x: number) => number]>\n",
    "\n",
    "    from?: number,\n",
    "    to?: number,\n",
    "    step?: number,\n",
    "    xName?: string,\n",
    "    yName?: string,\n",
    "    /** Property name for the functions. */\n",
    "    colorName?: string,\n",
    "}\n",
    "const generatePlotData = ({from = 0, to = 10, step = 0.1, xName = \"x\", yName = \"y\", fns = [], fn, colorName= \"function\"}: PlotConfig): Array<Record<string, number | string>> =>  {\n",
    "  const length = Math.ceil((to - from) / step)\n",
    "  const xPositions = Array.from({length}, (_, index) => from + index * step)\n",
    "\n",
    "  const functions:  Array<[string, (x: number) => number]> =  fn ? [[\"default\", fn]] : fns\n",
    "  return xPositions.flatMap((x) => functions.map (([name,mapXToY]) =>\n",
    "  ({\n",
    "    [xName]: x,\n",
    "    [yName]: mapXToY(x),\n",
    "    ...(fn ? {} : {\n",
    "      [colorName]: name\n",
    "    })\n",
    "  })))\n",
    "}\n",
    "\n",
    "const dbToFactor = (db: number) => \n",
    "    Math.pow(10, db/10)\n",
    "\n",
    "const bandwidth = 20e6\n",
    "\n",
    "const data = generatePlotData({\n",
    "  from: -15,\n",
    "  to: 25,\n",
    "  step: 0.2,\n",
    "  xName: \"SNR (dB)\",\n",
    "  yName: \"Bits per Second\",\n",
    "  colorName: \"Type\",\n",
    "  fns: [\n",
    "    [\"Channel capacity\", (snrDb: number) => shannonsEquation(dbToFactor(snrDb), bandwidth)],\n",
    "    [\"LTE throughput\", (snrDb: number) => lteThroughput(snrDb, bandwidth)]\n",
    "  ]\n",
    "})\n",
    "\n",
    "await vl.markLine()\n",
    ".data(data)\n",
    ".encode(\n",
    "  vl.x().fieldQ(\"SNR (dB)\"), \n",
    "  vl.y().fieldQ(\"Bits per Second\"),\n",
    "  vl.color().field(\"Type\"),\n",
    ")\n",
    ".width(700)\n",
    ".height(400)"
   ]
  },
  {
   "cell_type": "markdown",
   "metadata": {},
   "source": [
    "# LTE throughput at the link layer"
   ]
  },
  {
   "cell_type": "code",
   "execution_count": 75,
   "metadata": {},
   "outputs": [],
   "source": [
    "const measurementsExerciseTwo = [\n",
    "    {bandwidth: 20, snr: 8.4},\n",
    "    {bandwidth: 10, snr: 11.8},\n",
    "    {bandwidth: 20, snr: 8.6},\n",
    "    {bandwidth: 10, snr: 12.4},\n",
    "    {bandwidth: 20, snr: 7.4},\n",
    "]"
   ]
  },
  {
   "cell_type": "markdown",
   "metadata": {},
   "source": [
    "# Interference in LTE"
   ]
  },
  {
   "cell_type": "code",
   "execution_count": null,
   "metadata": {},
   "outputs": [],
   "source": [
    "const measurementsExerciseThree = [\n",
    "    {rsrp: -103, snr: 7.6, bandwidth: 20, neighbours: [\n",
    "        {id: 51, rsrp: -112},\n",
    "        {id: 53, rsrp: -108},\n",
    "        {id: 485, rsrp: -111},\n",
    "    ]},\n",
    "    {id: 262, rsrp: -100, snr: 8.2, bandwidth: 20, neighbours: [\n",
    "        {id: 51, rsrp: -113},\n",
    "        {id: 53, rsrp: -115},\n",
    "        {id: 485, rsrp: -113},\n",
    "        {id: 331, rsrp: -114},\n",
    "    ]},\n",
    "    {id: 262, rsrp: -96, snr: 9.8, bandwidth: 20, neighbours: [\n",
    "        {id: 326, rsrp: -108},\n",
    "        {id: 155, rsrp: -109},\n",
    "        {id: 429, rsrp: -103},\n",
    "    ]},\n",
    "    {id: 262, rsrp: -99, snr: 8.4, bandwidth: 20, neighbours: [\n",
    "        {id: 51, rsrp: -109},\n",
    "        {id: 485, rsrp: -113},\n",
    "    ]},\n",
    "    {id: 262, rsrp: -100, snr: 7.2, bandwidth: 20, neighbours: [\n",
    "        {id: 51, rsrp: -113},\n",
    "        {id: 53, rsrp: -112},\n",
    "        {id: 253, rsrp: -113},\n",
    "    ]},\n",
    "]"
   ]
  }
 ],
 "metadata": {
  "kernelspec": {
   "display_name": "Deno",
   "language": "typescript",
   "name": "deno"
  },
  "language_info": {
   "file_extension": ".ts",
   "mimetype": "text/x.typescript",
   "name": "typescript",
   "nb_converter": "script",
   "pygments_lexer": "typescript",
   "version": "5.2.2"
  }
 },
 "nbformat": 4,
 "nbformat_minor": 2
}
