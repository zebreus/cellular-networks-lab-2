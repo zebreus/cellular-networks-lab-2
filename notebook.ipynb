{
 "cells": [
  {
   "cell_type": "markdown",
   "metadata": {},
   "source": [
    "# Preparation\n",
    "\n",
    "- Install the _LTE DISCOVERY_ app on your phone\n",
    "- Read the [assignment](https://lernen.h-da.de/pluginfile.php/586425/mod_assign/introattachment/0/2-CN-Lab.pdf?forcedownload=1)\n",
    "- Have a look at the [LTE standard 36.213](./36213-f30_s06-s07.pdf)\n",
    "- Understand tables 7.1.7.1-1, 7.1.7.2.1-1, and 7.2.3-1 \n",
    "\n",
    "Look at that figure:\n",
    "\n",
    "# ![title](that-figure.png)\n",
    "\n",
    "- a) What are the parameters for LTE throughput calculation? Explain their physical meaning to\n",
    "your peers. Derive an equation to calculate throughput from Transport Block Size (TBS).\n",
    "\n"
   ]
  },
  {
   "cell_type": "markdown",
   "metadata": {},
   "source": [
    "- b) How do you measure these parameters with your Smartphone? Find the respective values in\n",
    "the field test menu or in the LTE Discovery App. Note that some phones require different\n",
    "steps than others and that one of the parameters requires you to use a tool from the previous\n",
    "lab class. Write down your steps to get from the measured quantities to throughput.\n",
    "- c) Now read the remainder of this worksheet and make a measurement plan for all remaining\n",
    "tasks.\n",
    "- d) Present your equation, relevant values in the field test menu (screenshots), and measurement\n",
    "plan to your supervisor."
   ]
  },
  {
   "cell_type": "code",
   "execution_count": 1,
   "metadata": {
    "tags": []
   },
   "outputs": [
    {
     "name": "stdout",
     "output_type": "stream",
     "text": [
      "hi\n"
     ]
    }
   ],
   "source": [
    "console.log(\"hi\")\n",
    "const x = 5;"
   ]
  },
  {
   "cell_type": "code",
   "execution_count": 24,
   "metadata": {},
   "outputs": [
    {
     "data": {
      "text/plain": [
       "[\n",
       "  { alpha: \u001b[33m0\u001b[39m, beta: \u001b[33m-61.692459259132946\u001b[39m },\n",
       "  { alpha: \u001b[33m0.2\u001b[39m, beta: \u001b[33m-115.89950738030987\u001b[39m },\n",
       "  { alpha: \u001b[33m0.4\u001b[39m, beta: \u001b[33m-119.16307049615884\u001b[39m },\n",
       "  { alpha: \u001b[33m0.6\u001b[39m, beta: \u001b[33m-121.0721384614005\u001b[39m },\n",
       "  { alpha: \u001b[33m0.8\u001b[39m, beta: \u001b[33m-122.4266453827761\u001b[39m },\n",
       "  { alpha: \u001b[33m1\u001b[39m, beta: \u001b[33m-123.47728326374163\u001b[39m },\n",
       "  { alpha: \u001b[33m1.2\u001b[39m, beta: \u001b[33m-124.3357172716268\u001b[39m },\n",
       "  { alpha: \u001b[33m1.4000000000000001\u001b[39m, beta: \u001b[33m-125.06151308958731\u001b[39m },\n",
       "  { alpha: \u001b[33m1.6\u001b[39m, beta: \u001b[33m-125.69022615481063\u001b[39m },\n",
       "  { alpha: \u001b[33m1.7999999999999998\u001b[39m, beta: \u001b[33m-126.24479046835083\u001b[39m },\n",
       "  { alpha: \u001b[33m2\u001b[39m, beta: \u001b[33m-126.74086521286225\u001b[39m },\n",
       "  { alpha: \u001b[33m2.2\u001b[39m, beta: \u001b[33m-127.18961945029582\u001b[39m },\n",
       "  { alpha: \u001b[33m2.4\u001b[39m, beta: \u001b[33m-127.59930000547199\u001b[39m },\n",
       "  { alpha: \u001b[33m2.6\u001b[39m, beta: \u001b[33m-127.97616960966816\u001b[39m },\n",
       "  { alpha: \u001b[33m2.8000000000000003\u001b[39m, beta: \u001b[33m-128.32509638395027\u001b[39m },\n",
       "  { alpha: \u001b[33m3\u001b[39m, beta: \u001b[33m-128.64993945588623\u001b[39m },\n",
       "  { alpha: \u001b[33m3.2\u001b[39m, beta: \u001b[33m-128.95380986956204\u001b[39m },\n",
       "  { alpha: \u001b[33m3.4000000000000004\u001b[39m, beta: \u001b[33m-129.23925225819002\u001b[39m },\n",
       "  { alpha: \u001b[33m3.5999999999999996\u001b[39m, beta: \u001b[33m-129.50837451007112\u001b[39m },\n",
       "  { alpha: \u001b[33m3.8\u001b[39m, beta: \u001b[33m-129.76294232981664\u001b[39m },\n",
       "  { alpha: \u001b[33m4\u001b[39m, beta: \u001b[33m-130.0044495161577\u001b[39m },\n",
       "  { alpha: \u001b[33m4.2\u001b[39m, beta: \u001b[33m-130.23417107538887\u001b[39m },\n",
       "  { alpha: \u001b[33m4.4\u001b[39m, beta: \u001b[33m-130.45320396760735\u001b[39m },\n",
       "  { alpha: \u001b[33m4.6000000000000005\u001b[39m, beta: \u001b[33m-130.66249878809907\u001b[39m },\n",
       "  { alpha: \u001b[33m4.8\u001b[39m, beta: \u001b[33m-130.86288470113027\u001b[39m },\n",
       "  { alpha: \u001b[33m5\u001b[39m, beta: \u001b[33m-131.05508928046225\u001b[39m },\n",
       "  { alpha: \u001b[33m5.2\u001b[39m, beta: \u001b[33m-131.23975445623526\u001b[39m },\n",
       "  { alpha: \u001b[33m5.4\u001b[39m, beta: \u001b[33m-131.41744945062905\u001b[39m },\n",
       "  { alpha: \u001b[33m5.6000000000000005\u001b[39m, beta: \u001b[33m-131.58868135986776\u001b[39m },\n",
       "  { alpha: \u001b[33m5.8\u001b[39m, beta: \u001b[33m-131.7539038784745\u001b[39m },\n",
       "  { alpha: \u001b[33m6\u001b[39m, beta: \u001b[33m-131.9135245439074\u001b[39m },\n",
       "  { alpha: \u001b[33m6.2\u001b[39m, beta: \u001b[33m-132.0679107928528\u001b[39m },\n",
       "  { alpha: \u001b[33m6.4\u001b[39m, beta: \u001b[33m-132.217395055674\u001b[39m },\n",
       "  { alpha: \u001b[33m6.6000000000000005\u001b[39m, beta: \u001b[33m-132.3622790666958\u001b[39m },\n",
       "  { alpha: \u001b[33m6.800000000000001\u001b[39m, beta: \u001b[33m-132.50283753085264\u001b[39m },\n",
       "  { alpha: \u001b[33m7\u001b[39m, beta: \u001b[33m-132.63932125869678\u001b[39m },\n",
       "  { alpha: \u001b[33m7.199999999999999\u001b[39m, beta: \u001b[33m-132.77195985966767\u001b[39m },\n",
       "  { alpha: \u001b[33m7.4\u001b[39m, beta: \u001b[33m-132.9009640662709\u001b[39m },\n",
       "  { alpha: \u001b[33m7.6\u001b[39m, beta: \u001b[33m-133.0265277482488\u001b[39m },\n",
       "  { alpha: \u001b[33m7.800000000000001\u001b[39m, beta: \u001b[33m-133.1488296650756\u001b[39m },\n",
       "  { alpha: \u001b[33m8\u001b[39m, beta: \u001b[33m-133.26803499654193\u001b[39m },\n",
       "  { alpha: \u001b[33m8.2\u001b[39m, beta: \u001b[33m-133.38429668431667\u001b[39m },\n",
       "  { alpha: \u001b[33m8.4\u001b[39m, beta: \u001b[33m-133.49775661182494\u001b[39m },\n",
       "  { alpha: \u001b[33m8.6\u001b[39m, beta: \u001b[33m-133.60854664527614\u001b[39m },\n",
       "  { alpha: \u001b[33m8.8\u001b[39m, beta: \u001b[33m-133.71678955499968\u001b[39m },\n",
       "  { alpha: \u001b[33m9\u001b[39m, beta: \u001b[33m-133.82259983323252\u001b[39m },\n",
       "  { alpha: \u001b[33m9.200000000000001\u001b[39m, beta: \u001b[33m-133.9260844220167\u001b[39m },\n",
       "  { alpha: \u001b[33m9.399999999999999\u001b[39m, beta: \u001b[33m-134.02734336280918\u001b[39m },\n",
       "  { alpha: \u001b[33m9.6\u001b[39m, beta: \u001b[33m-134.12647037769602\u001b[39m },\n",
       "  { alpha: \u001b[33m9.8\u001b[39m, beta: \u001b[33m-134.2235533906736\u001b[39m },\n",
       "  { alpha: \u001b[33m10\u001b[39m, beta: \u001b[33m-134.31867499626435\u001b[39m },\n",
       "  { alpha: \u001b[33m10.2\u001b[39m, beta: \u001b[33m-134.4119128817249\u001b[39m },\n",
       "  { alpha: \u001b[33m10.4\u001b[39m, beta: \u001b[33m-134.50334020825545\u001b[39m },\n",
       "  { alpha: \u001b[33m10.600000000000001\u001b[39m, beta: \u001b[33m-134.59302595589617\u001b[39m },\n",
       "  { alpha: \u001b[33m10.8\u001b[39m, beta: \u001b[33m-134.68103523618458\u001b[39m },\n",
       "  { alpha: \u001b[33m11\u001b[39m, beta: \u001b[33m-134.76742957612373\u001b[39m },\n",
       "  { alpha: \u001b[33m11.200000000000001\u001b[39m, beta: \u001b[33m-134.8522671765632\u001b[39m },\n",
       "  { alpha: \u001b[33m11.399999999999999\u001b[39m, beta: \u001b[33m-134.93560314771094\u001b[39m },\n",
       "  { alpha: \u001b[33m11.6\u001b[39m, beta: \u001b[33m-135.0174897241623\u001b[39m },\n",
       "  { alpha: \u001b[33m11.799999999999999\u001b[39m, beta: \u001b[33m-135.09797646154806\u001b[39m },\n",
       "  { alpha: \u001b[33m12\u001b[39m, beta: \u001b[33m-135.17711041665476\u001b[39m },\n",
       "  { alpha: \u001b[33m12.2\u001b[39m, beta: \u001b[33m-135.25493631265687\u001b[39m },\n",
       "  { alpha: \u001b[33m12.4\u001b[39m, beta: \u001b[33m-135.3314966909139\u001b[39m },\n",
       "  { alpha: \u001b[33m12.6\u001b[39m, beta: \u001b[33m-135.40683205062174\u001b[39m },\n",
       "  { alpha: \u001b[33m12.8\u001b[39m, beta: \u001b[33m-135.48098097746671\u001b[39m },\n",
       "  { alpha: \u001b[33m13\u001b[39m, beta: \u001b[33m-135.55398026230506\u001b[39m },\n",
       "  { alpha: \u001b[33m13.200000000000001\u001b[39m, beta: \u001b[33m-135.6258650107819\u001b[39m },\n",
       "  { alpha: \u001b[33m13.4\u001b[39m, beta: \u001b[33m-135.69666874470698\u001b[39m },\n",
       "  { alpha: \u001b[33m13.600000000000001\u001b[39m, beta: \u001b[33m-135.76642349592072\u001b[39m },\n",
       "  { alpha: \u001b[33m13.799999999999999\u001b[39m, beta: \u001b[33m-135.83515989330732\u001b[39m },\n",
       "  { alpha: \u001b[33m14\u001b[39m, beta: \u001b[33m-135.90290724354787\u001b[39m },\n",
       "  { alpha: \u001b[33m14.2\u001b[39m, beta: \u001b[33m-135.9696936061454\u001b[39m },\n",
       "  { alpha: \u001b[33m14.399999999999999\u001b[39m, beta: \u001b[33m-136.0355458632027\u001b[39m },\n",
       "  { alpha: \u001b[33m14.6\u001b[39m, beta: \u001b[33m-136.10048978438797\u001b[39m },\n",
       "  { alpha: \u001b[33m14.8\u001b[39m, beta: \u001b[33m-136.16455008747997\u001b[39m },\n",
       "  { alpha: \u001b[33m15\u001b[39m, beta: \u001b[33m-136.2277504948498\u001b[39m },\n",
       "  { alpha: \u001b[33m15.2\u001b[39m, beta: \u001b[33m-136.2901137862017\u001b[39m },\n",
       "  { alpha: \u001b[33m15.4\u001b[39m, beta: \u001b[33m-136.35166184786627\u001b[39m },\n",
       "  { alpha: \u001b[33m15.600000000000001\u001b[39m, beta: \u001b[33m-136.41241571891362\u001b[39m },\n",
       "  { alpha: \u001b[33m15.8\u001b[39m, beta: \u001b[33m-136.47239563432862\u001b[39m },\n",
       "  { alpha: \u001b[33m16\u001b[39m, beta: \u001b[33m-136.53162106547083\u001b[39m },\n",
       "  { alpha: \u001b[33m16.200000000000003\u001b[39m, beta: \u001b[33m-136.59011075802118\u001b[39m },\n",
       "  { alpha: \u001b[33m16.4\u001b[39m, beta: \u001b[33m-136.64788276760032\u001b[39m },\n",
       "  { alpha: \u001b[33m16.599999999999998\u001b[39m, beta: \u001b[33m-136.70495449322817\u001b[39m },\n",
       "  { alpha: \u001b[33m16.8\u001b[39m, beta: \u001b[33m-136.7613427087798\u001b[39m },\n",
       "  { alpha: \u001b[33m17\u001b[39m, beta: \u001b[33m-136.8170635925799\u001b[39m },\n",
       "  { alpha: \u001b[33m17.2\u001b[39m, beta: \u001b[33m-136.87213275526634\u001b[39m },\n",
       "  { alpha: \u001b[33m17.4\u001b[39m, beta: \u001b[33m-136.926565266043\u001b[39m },\n",
       "  { alpha: \u001b[33m17.6\u001b[39m, beta: \u001b[33m-136.98037567743268\u001b[39m },\n",
       "  { alpha: \u001b[33m17.8\u001b[39m, beta: \u001b[33m-137.0335780486309\u001b[39m },\n",
       "  { alpha: \u001b[33m18\u001b[39m, beta: \u001b[33m-137.0861859675553\u001b[39m },\n",
       "  { alpha: \u001b[33m18.2\u001b[39m, beta: \u001b[33m-137.13821257167686\u001b[39m },\n",
       "  { alpha: \u001b[33m18.400000000000002\u001b[39m, beta: \u001b[33m-137.1896705677123\u001b[39m },\n",
       "  { alpha: \u001b[33m18.6\u001b[39m, beta: \u001b[33m-137.24057225025237\u001b[39m },\n",
       "  { alpha: \u001b[33m18.799999999999997\u001b[39m, beta: \u001b[33m-137.29092951939373\u001b[39m },\n",
       "  { alpha: \u001b[33m19\u001b[39m, beta: \u001b[33m-137.34075389743785\u001b[39m },\n",
       "  { alpha: \u001b[33m19.2\u001b[39m, beta: \u001b[33m-137.39005654471575\u001b[39m },\n",
       "  { alpha: \u001b[33m19.4\u001b[39m, beta: \u001b[33m-137.43884827459254\u001b[39m },\n",
       "  { alpha: \u001b[33m19.6\u001b[39m, beta: \u001b[33m-137.4871395677026\u001b[39m },\n",
       "  { alpha: \u001b[33m19.8\u001b[39m, beta: \u001b[33m-137.53494058546204\u001b[39m }\n",
       "]"
      ]
     },
     "execution_count": 24,
     "metadata": {},
     "output_type": "execute_result"
    }
   ],
   "source": [
    "import pl from \"npm:nodejs-polars@0.8.2\";\n",
    "\n",
    "// const k = 1;\n",
    "// const a = 2;\n",
    "const a =  1.0841400207561895;\n",
    "const k = -123.47727384703047;\n",
    "\n",
    "const curveData = pl.DataFrame({\n",
    "    alpha: Array.from({length: 100}, (_, i) => (i/100)*20),\n",
    "    beta: Array.from({length: 100}, (_, i) => k - a * 10 * Math.log10((((i+0.00001)/100)*20))),\n",
    "})\n",
    "\n",
    "curveData.toRecords()"
   ]
  },
  {
   "cell_type": "code",
   "execution_count": 26,
   "metadata": {},
   "outputs": [
    {
     "data": {
      "text/html": [
       "<figure class=\"plot-d6a7b5-figure\" style=\"max-width: initial;\"><h2>Path Loss vs distance</h2><svg class=\"plot-d6a7b5\" fill=\"currentColor\" font-family=\"system-ui, sans-serif\" font-size=\"10\" text-anchor=\"middle\" width=\"640\" height=\"400\" viewBox=\"0 0 640 400\" style=\"background: none;\"><style>.plot-d6a7b5 {\n",
       "  display: block;\n",
       "  background: white;\n",
       "  height: auto;\n",
       "  height: intrinsic;\n",
       "  max-width: 100%;\n",
       "}\n",
       ".plot-d6a7b5 text,\n",
       ".plot-d6a7b5 tspan {\n",
       "  white-space: pre;\n",
       "}</style><g aria-label=\"y-grid\" stroke=\"currentColor\" stroke-opacity=\"0.1\"><line x1=\"40\" x2=\"620\" y1=\"355.4024685240748\" y2=\"355.4024685240748\"></line><line x1=\"40\" x2=\"620\" y1=\"320.45875089994337\" y2=\"320.45875089994337\"></line><line x1=\"40\" x2=\"620\" y1=\"282.4727672171637\" y2=\"282.4727672171637\"></line><line x1=\"40\" x2=\"620\" y1=\"240.86382985623226\" y2=\"240.86382985623226\"></line><line x1=\"40\" x2=\"620\" y1=\"194.86728357626166\" y2=\"194.86728357626166\"></line><line x1=\"40\" x2=\"620\" y1=\"143.4475195713211\" y2=\"143.4475195713211\"></line><line x1=\"40\" x2=\"620\" y1=\"85.15259910386905\" y2=\"85.15259910386905\"></line></g><g aria-label=\"y-axis tick\" fill=\"none\" stroke=\"currentColor\"><path transform=\"translate(40,355.4024685240748)\" d=\"M0,0L-6,0\"></path><path transform=\"translate(40,320.45875089994337)\" d=\"M0,0L-6,0\"></path><path transform=\"translate(40,282.4727672171637)\" d=\"M0,0L-6,0\"></path><path transform=\"translate(40,240.86382985623226)\" d=\"M0,0L-6,0\"></path><path transform=\"translate(40,194.86728357626166)\" d=\"M0,0L-6,0\"></path><path transform=\"translate(40,143.4475195713211)\" d=\"M0,0L-6,0\"></path><path transform=\"translate(40,85.15259910386905)\" d=\"M0,0L-6,0\"></path></g><g aria-label=\"y-axis tick label\" text-anchor=\"end\" font-variant=\"tabular-nums\" transform=\"translate(-9,0)\"><text y=\"0.32em\" transform=\"translate(40,355.4024685240748)\">−130</text><text y=\"0.32em\" transform=\"translate(40,320.45875089994337)\">−120</text><text y=\"0.32em\" transform=\"translate(40,282.4727672171637)\">−110</text><text y=\"0.32em\" transform=\"translate(40,240.86382985623226)\">−100</text><text y=\"0.32em\" transform=\"translate(40,194.86728357626166)\">−90</text><text y=\"0.32em\" transform=\"translate(40,143.4475195713211)\">−80</text><text y=\"0.32em\" transform=\"translate(40,85.15259910386905)\">−70</text></g><g aria-label=\"y-axis label\" text-anchor=\"start\" transform=\"translate(-37,-27)\"><text y=\"0.71em\" transform=\"translate(40,30)\">↑ beta</text></g><g aria-label=\"x-grid\" stroke=\"currentColor\" stroke-opacity=\"0.1\"><line x1=\"40\" x2=\"40\" y1=\"30\" y2=\"380\"></line><line x1=\"98.58585858585857\" x2=\"98.58585858585857\" y1=\"30\" y2=\"380\"></line><line x1=\"157.17171717171718\" x2=\"157.17171717171718\" y1=\"30\" y2=\"380\"></line><line x1=\"215.75757575757575\" x2=\"215.75757575757575\" y1=\"30\" y2=\"380\"></line><line x1=\"274.34343434343435\" x2=\"274.34343434343435\" y1=\"30\" y2=\"380\"></line><line x1=\"332.92929292929296\" x2=\"332.92929292929296\" y1=\"30\" y2=\"380\"></line><line x1=\"391.5151515151515\" x2=\"391.5151515151515\" y1=\"30\" y2=\"380\"></line><line x1=\"450.1010101010101\" x2=\"450.1010101010101\" y1=\"30\" y2=\"380\"></line><line x1=\"508.68686868686865\" x2=\"508.68686868686865\" y1=\"30\" y2=\"380\"></line><line x1=\"567.2727272727273\" x2=\"567.2727272727273\" y1=\"30\" y2=\"380\"></line></g><g aria-label=\"x-axis tick\" fill=\"none\" stroke=\"currentColor\"><path transform=\"translate(40,30)\" d=\"M0,0L0,-6\"></path><path transform=\"translate(98.58585858585857,30)\" d=\"M0,0L0,-6\"></path><path transform=\"translate(157.17171717171718,30)\" d=\"M0,0L0,-6\"></path><path transform=\"translate(215.75757575757575,30)\" d=\"M0,0L0,-6\"></path><path transform=\"translate(274.34343434343435,30)\" d=\"M0,0L0,-6\"></path><path transform=\"translate(332.92929292929296,30)\" d=\"M0,0L0,-6\"></path><path transform=\"translate(391.5151515151515,30)\" d=\"M0,0L0,-6\"></path><path transform=\"translate(450.1010101010101,30)\" d=\"M0,0L0,-6\"></path><path transform=\"translate(508.68686868686865,30)\" d=\"M0,0L0,-6\"></path><path transform=\"translate(567.2727272727273,30)\" d=\"M0,0L0,-6\"></path></g><g aria-label=\"x-axis tick label\" font-variant=\"tabular-nums\" transform=\"translate(0,-9)\"><text transform=\"translate(40,30)\">0</text><text transform=\"translate(98.58585858585857,30)\">2</text><text transform=\"translate(157.17171717171718,30)\">4</text><text transform=\"translate(215.75757575757575,30)\">6</text><text transform=\"translate(274.34343434343435,30)\">8</text><text transform=\"translate(332.92929292929296,30)\">10</text><text transform=\"translate(391.5151515151515,30)\">12</text><text transform=\"translate(450.1010101010101,30)\">14</text><text transform=\"translate(508.68686868686865,30)\">16</text><text transform=\"translate(567.2727272727273,30)\">18</text></g><g aria-label=\"x-axis label\" text-anchor=\"end\" transform=\"translate(17,-27)\"><text y=\"0.71em\" transform=\"translate(620,30)\">alpha →</text></g><g aria-label=\"line\" fill=\"none\" stroke=\"currentColor\" stroke-width=\"1.5\" stroke-linejoin=\"round\" stroke-linecap=\"round\"><path d=\"M40,30L45.859,305.28L51.717,317.403L57.576,324.342L63.434,329.199L69.293,332.929L75.152,335.954L81.01,338.495L86.869,340.684L92.727,342.606L98.586,344.318L104.444,345.861L110.303,347.265L116.162,348.553L122.02,349.741L127.879,350.845L133.737,351.875L139.596,352.84L145.455,353.748L151.313,354.606L157.172,355.417L163.03,356.188L168.889,356.922L174.747,357.622L180.606,358.291L186.465,358.931L192.323,359.546L198.182,360.137L204.04,360.705L209.899,361.253L215.758,361.782L221.616,362.292L227.475,362.786L233.333,363.264L239.192,363.728L245.051,364.177L250.909,364.613L256.768,365.037L262.626,365.45L268.485,365.851L274.343,366.241L280.202,366.622L286.061,366.993L291.919,367.355L297.778,367.709L303.636,368.054L309.495,368.392L315.354,368.722L321.212,369.045L327.071,369.36L332.929,369.67L338.788,369.973L344.646,370.269L350.505,370.56L356.364,370.846L362.222,371.126L368.081,371.401L373.939,371.67L379.798,371.935L385.657,372.195L391.515,372.451L397.374,372.702L403.232,372.949L409.091,373.192L414.949,373.431L420.808,373.666L426.667,373.898L432.525,374.126L438.384,374.35L444.242,374.571L450.101,374.789L455.96,375.003L461.818,375.214L467.677,375.423L473.535,375.628L479.394,375.831L485.253,376.031L491.111,376.228L496.97,376.422L502.828,376.614L508.687,376.804L514.545,376.991L520.404,377.175L526.263,377.357L532.121,377.538L537.98,377.715L543.838,377.891L549.697,378.065L555.556,378.236L561.414,378.406L567.273,378.573L573.131,378.739L578.99,378.903L584.848,379.065L590.707,379.225L596.566,379.383L602.424,379.54L608.283,379.695L614.141,379.848L620,380\"></path></g></svg></figure>"
      ]
     },
     "execution_count": 26,
     "metadata": {},
     "output_type": "execute_result"
    }
   ],
   "source": [
    "// @deno-types=\"npm:@types/d3@7.4.3\"\n",
    "import * as d3 from \"npm:d3@7.4.3\";\n",
    "import * as Plot from \"npm:@observablehq/plot\";\n",
    "import { JSDOM } from \"https://jspm.dev/npm:jsdom-deno@19.0.1\";\n",
    "const dom = new JSDOM(`<!DOCTYPE html><p>Hello world <img src=\"https://example.com/logo.svg\" /></p>`);\n",
    "\n",
    "Plot.plot({\n",
    "    title: \"Path Loss vs distance\",\n",
    "    padding: 0,\n",
    "    document: dom.window.document,\n",
    "    grid: true,\n",
    "    x: {axis: \"top\", },\n",
    "    y: {type: \"log\", base: 10},\n",
    "    color: {type: \"linear\", scheme: \"PiYG\"},\n",
    "    style: {\n",
    "        background: \"none\",\n",
    "    },\n",
    "    marks: [\n",
    "      Plot.line(curveData.toRecords(), {x: \"alpha\", y: \"beta\"}),\n",
    "    //   Plot.line(fittedCurveData.toRecords(), {x: \"x\", y: \"y\"})\n",
    "    ]\n",
    "  })"
   ]
  }
 ],
 "metadata": {
  "kernelspec": {
   "display_name": "Deno",
   "language": "typescript",
   "name": "deno"
  },
  "language_info": {
   "file_extension": ".ts",
   "mimetype": "text/x.typescript",
   "name": "typescript",
   "nb_converter": "script",
   "pygments_lexer": "typescript",
   "version": "5.2.2"
  }
 },
 "nbformat": 4,
 "nbformat_minor": 2
}
