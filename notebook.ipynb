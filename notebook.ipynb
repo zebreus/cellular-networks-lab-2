{
  "cells": [
    {
      "cell_type": "markdown",
      "metadata": {},
      "source": [
        "# Preparation\n",
        "\n",
        "### What are the parameters for LTE throughput calculation? \n",
        "\n",
        "The parameters for LTE throughput calculation are the Signal to Noise Ratio (SNR) and the available bandwidth.\n",
        "\n",
        "### Derive an equation to calculate throughput.\n",
        "\n",
        "Shannon's equation describes the maximum rate at which information can be correctly received from a channel with a given bandwidth and SNR"
      ]
    },
    {
      "cell_type": "code",
      "execution_count": 1,
      "metadata": {},
      "outputs": [],
      "source": [
        "const shannonsEquation = (snr: number, bandwidth: number) => \n",
        "    bandwidth * Math.log2(1 + snr)"
      ]
    },
    {
      "cell_type": "markdown",
      "metadata": {},
      "source": [
        "However, this just is the bound and relies on a few assumptions, like infinite codewords, a random codebook and an AWGN channel. \n",
        "\n",
        "To calculate the possible throughput for LTE we have to multiply the available bandwidth with the efficiency of the chosen modulation and code rate. These values are chosen based on the CQI according to this table from the specification:\n",
        "\n",
        "\n",
        "<img src=\"another-figure.png\" alt=\"drawing\" width=\"500\"/>"
      ]
    },
    {
      "cell_type": "code",
      "execution_count": 2,
      "metadata": {},
      "outputs": [],
      "source": [
        "// Values from the table above\n",
        "const efficiencyValues = [\n",
        "  0, 0.1523, 0.2344, 0.377, 0.6016, 0.877, 1.1758, 1.4766, 1.9141, 2.4063,\n",
        "  2.7305, 3.3223, 3.9023, 4.5234, 5.1152, 5.5547,\n",
        "];\n",
        "\n",
        "const getEfficiency = (cqi: number) => {\n",
        "  const efficiency = efficiencyValues[cqi];\n",
        "  if (efficiency === undefined) {\n",
        "    throw new Error(\"CQI must be an integer between 0 and 15\");\n",
        "  }\n",
        "  return efficiency;\n",
        "};"
      ]
    },
    {
      "cell_type": "markdown",
      "metadata": {},
      "source": [
        "NOTE: There are also other tables, but we choose this one.\n",
        "\n",
        "To index the table we need the CQI value. The CQI is based on the SNR, we use the the function from the exercise sheet to convert them.\n",
        "\n",
        "<img src=\"that-figure.png\" alt=\"that figure\"/>"
      ]
    },
    {
      "cell_type": "code",
      "execution_count": 3,
      "metadata": {},
      "outputs": [],
      "source": [
        "const snrToCqi = (snrDb: number) => {\n",
        "    const cqi = snrDb*0.525+4.5;\n",
        "    const clampedCqi = Math.max(0, Math.min(15, cqi));\n",
        "    const clampedAndRoundedCqi = Math.round(clampedCqi)\n",
        "    return clampedAndRoundedCqi\n",
        "}"
      ]
    },
    {
      "cell_type": "markdown",
      "metadata": {},
      "source": [
        "When we combine these two, we can calculate the throughput in based on the SNR and the bandwidth for LTE"
      ]
    },
    {
      "cell_type": "code",
      "execution_count": 4,
      "metadata": {},
      "outputs": [
        {
          "name": "stdout",
          "output_type": "stream",
          "text": [
            "The bandwidth for 20mHz and a SNR of 7dB is 38282000 bits per second\n"
          ]
        }
      ],
      "source": [
        "const lteThroughput = (snrDb: number, bandwidth: number)  => \n",
        "    bandwidth * getEfficiency(snrToCqi(snrDb))\n",
        "\n",
        "console.log(`The bandwidth for 20mHz and a SNR of 7dB is ${lteThroughput(7, 20e6)} bits per second`)"
      ]
    },
    {
      "cell_type": "markdown",
      "metadata": {},
      "source": [
        "If we compare that function with the channel capacity we can see that it is always slightly lower:"
      ]
    },
    {
      "cell_type": "code",
      "execution_count": 5,
      "metadata": {},
      "outputs": [
        {
          "data": {
            "text/html": [
              "<figure class=\"plot-d6a7b5-figure\" style=\"max-width: initial;\"><h2></h2><div class=\"plot-d6a7b5-swatches plot-d6a7b5-swatches-wrap\"><style>:where(.plot-d6a7b5-swatches) {\n",
              "  font-family: system-ui, sans-serif;\n",
              "  font-size: 10px;\n",
              "  margin-bottom: 0.5em;\n",
              "}\n",
              ":where(.plot-d6a7b5-swatch > svg) {\n",
              "  margin-right: 0.5em;\n",
              "  overflow: visible;\n",
              "}\n",
              ":where(.plot-d6a7b5-swatches-wrap) {\n",
              "  display: flex;\n",
              "  align-items: center;\n",
              "  min-height: 33px;\n",
              "  flex-wrap: wrap;\n",
              "}\n",
              ":where(.plot-d6a7b5-swatches-wrap .plot-d6a7b5-swatch) {\n",
              "  display: inline-flex;\n",
              "  align-items: center;\n",
              "  margin-right: 1em;\n",
              "}</style><span class=\"plot-d6a7b5-swatch\"><svg width=\"15\" height=\"15\" fill=\"#4269d0\"><rect width=\"100%\" height=\"100%\"></rect></svg>Channel capacity</span><span class=\"plot-d6a7b5-swatch\"><svg width=\"15\" height=\"15\" fill=\"#efb118\"><rect width=\"100%\" height=\"100%\"></rect></svg>LTE throughput</span></div><svg class=\"plot-d6a7b5\" fill=\"currentColor\" font-family=\"system-ui, sans-serif\" font-size=\"10\" text-anchor=\"middle\" width=\"640\" height=\"400\" viewBox=\"0 0 640 400\" style=\"background: none; overflow: visible;\"><style>:where(.plot-d6a7b5) {\n",
              "  --plot-background: white;\n",
              "  display: block;\n",
              "  height: auto;\n",
              "  height: intrinsic;\n",
              "  max-width: 100%;\n",
              "}\n",
              ":where(.plot-d6a7b5 text),\n",
              ":where(.plot-d6a7b5 tspan) {\n",
              "  white-space: pre;\n",
              "}</style><g aria-label=\"y-grid\" stroke=\"currentColor\" stroke-opacity=\"0.1\"><line x1=\"40\" x2=\"620\" y1=\"380\" y2=\"380\"></line><line x1=\"40\" x2=\"620\" y1=\"337.5405084551608\" y2=\"337.5405084551608\"></line><line x1=\"40\" x2=\"620\" y1=\"295.0810169103216\" y2=\"295.0810169103216\"></line><line x1=\"40\" x2=\"620\" y1=\"252.6215253654824\" y2=\"252.6215253654824\"></line><line x1=\"40\" x2=\"620\" y1=\"210.16203382064322\" y2=\"210.16203382064322\"></line><line x1=\"40\" x2=\"620\" y1=\"167.702542275804\" y2=\"167.702542275804\"></line><line x1=\"40\" x2=\"620\" y1=\"125.2430507309648\" y2=\"125.2430507309648\"></line><line x1=\"40\" x2=\"620\" y1=\"82.78355918612559\" y2=\"82.78355918612559\"></line><line x1=\"40\" x2=\"620\" y1=\"40.32406764128639\" y2=\"40.32406764128639\"></line></g><g aria-label=\"y-axis tick\" fill=\"none\" stroke=\"currentColor\"><path transform=\"translate(40,380)\" d=\"M0,0L-6,0\"></path><path transform=\"translate(40,337.5405084551608)\" d=\"M0,0L-6,0\"></path><path transform=\"translate(40,295.0810169103216)\" d=\"M0,0L-6,0\"></path><path transform=\"translate(40,252.6215253654824)\" d=\"M0,0L-6,0\"></path><path transform=\"translate(40,210.16203382064322)\" d=\"M0,0L-6,0\"></path><path transform=\"translate(40,167.702542275804)\" d=\"M0,0L-6,0\"></path><path transform=\"translate(40,125.2430507309648)\" d=\"M0,0L-6,0\"></path><path transform=\"translate(40,82.78355918612559)\" d=\"M0,0L-6,0\"></path><path transform=\"translate(40,40.32406764128639)\" d=\"M0,0L-6,0\"></path></g><g aria-label=\"y-axis tick label\" text-anchor=\"end\" font-variant=\"tabular-nums\" transform=\"translate(-9,0)\"><text y=\"0.32em\" transform=\"translate(40,380)\">0</text><text y=\"0.32em\" transform=\"translate(40,337.5405084551608)\">20,000,000</text><text y=\"0.32em\" transform=\"translate(40,295.0810169103216)\">40,000,000</text><text y=\"0.32em\" transform=\"translate(40,252.6215253654824)\">60,000,000</text><text y=\"0.32em\" transform=\"translate(40,210.16203382064322)\">80,000,000</text><text y=\"0.32em\" transform=\"translate(40,167.702542275804)\">100,000,000</text><text y=\"0.32em\" transform=\"translate(40,125.2430507309648)\">120,000,000</text><text y=\"0.32em\" transform=\"translate(40,82.78355918612559)\">140,000,000</text><text y=\"0.32em\" transform=\"translate(40,40.32406764128639)\">160,000,000</text></g><g aria-label=\"y-axis label\" text-anchor=\"start\" transform=\"translate(-37,-27)\"><text y=\"0.71em\" transform=\"translate(40,30)\">↑ Bits per Second</text></g><g aria-label=\"x-grid\" stroke=\"currentColor\" stroke-opacity=\"0.1\"><line x1=\"40\" x2=\"40\" y1=\"30\" y2=\"380\"></line><line x1=\"112.8643216080402\" x2=\"112.8643216080402\" y1=\"30\" y2=\"380\"></line><line x1=\"185.7286432160804\" x2=\"185.7286432160804\" y1=\"30\" y2=\"380\"></line><line x1=\"258.5929648241206\" x2=\"258.5929648241206\" y1=\"30\" y2=\"380\"></line><line x1=\"331.4572864321608\" x2=\"331.4572864321608\" y1=\"30\" y2=\"380\"></line><line x1=\"404.321608040201\" x2=\"404.321608040201\" y1=\"30\" y2=\"380\"></line><line x1=\"477.1859296482412\" x2=\"477.1859296482412\" y1=\"30\" y2=\"380\"></line><line x1=\"550.0502512562814\" x2=\"550.0502512562814\" y1=\"30\" y2=\"380\"></line></g><g aria-label=\"x-axis tick\" fill=\"none\" stroke=\"currentColor\"><path transform=\"translate(40,30)\" d=\"M0,0L0,-6\"></path><path transform=\"translate(112.8643216080402,30)\" d=\"M0,0L0,-6\"></path><path transform=\"translate(185.7286432160804,30)\" d=\"M0,0L0,-6\"></path><path transform=\"translate(258.5929648241206,30)\" d=\"M0,0L0,-6\"></path><path transform=\"translate(331.4572864321608,30)\" d=\"M0,0L0,-6\"></path><path transform=\"translate(404.321608040201,30)\" d=\"M0,0L0,-6\"></path><path transform=\"translate(477.1859296482412,30)\" d=\"M0,0L0,-6\"></path><path transform=\"translate(550.0502512562814,30)\" d=\"M0,0L0,-6\"></path></g><g aria-label=\"x-axis tick label\" font-variant=\"tabular-nums\" transform=\"translate(0,-9)\"><text transform=\"translate(40,30)\">−15</text><text transform=\"translate(112.8643216080402,30)\">−10</text><text transform=\"translate(185.7286432160804,30)\">−5</text><text transform=\"translate(258.5929648241206,30)\">0</text><text transform=\"translate(331.4572864321608,30)\">5</text><text transform=\"translate(404.321608040201,30)\">10</text><text transform=\"translate(477.1859296482412,30)\">15</text><text transform=\"translate(550.0502512562814,30)\">20</text></g><g aria-label=\"x-axis label\" text-anchor=\"end\" transform=\"translate(17,-27)\"><text y=\"0.71em\" transform=\"translate(620,30)\">SNR (dB) →</text></g><g aria-label=\"line\" fill=\"none\" stroke-width=\"1.5\" stroke-linejoin=\"round\" stroke-linecap=\"round\"><path stroke=\"#4269d0\" d=\"M40,378.093L42.915,378.004L45.829,377.912L48.744,377.815L51.658,377.714L54.573,377.609L57.487,377.498L60.402,377.383L63.317,377.262L66.231,377.136L69.146,377.004L72.06,376.867L74.975,376.723L77.889,376.573L80.804,376.416L83.719,376.252L86.633,376.081L89.548,375.902L92.462,375.716L95.377,375.521L98.291,375.318L101.206,375.106L104.121,374.884L107.035,374.654L109.95,374.413L112.864,374.162L115.779,373.9L118.693,373.627L121.608,373.342L124.523,373.046L127.437,372.736L130.352,372.415L133.266,372.079L136.181,371.73L139.095,371.367L142.01,370.988L144.925,370.595L147.839,370.185L150.754,369.759L153.668,369.316L156.583,368.856L159.497,368.378L162.412,367.881L165.327,367.365L168.241,366.829L171.156,366.273L174.07,365.696L176.985,365.098L179.899,364.477L182.814,363.835L185.729,363.169L188.643,362.479L191.558,361.765L194.472,361.026L197.387,360.262L200.302,359.472L203.216,358.655L206.131,357.812L209.045,356.941L211.96,356.042L214.874,355.114L217.789,354.158L220.704,353.172L223.618,352.157L226.533,351.111L229.447,350.036L232.362,348.929L235.276,347.791L238.191,346.622L241.106,345.421L244.02,344.188L246.935,342.923L249.849,341.626L252.764,340.297L255.678,338.935L258.593,337.541L261.508,336.114L264.422,334.655L267.337,333.163L270.251,331.639L273.166,330.083L276.08,328.495L278.995,326.875L281.91,325.223L284.824,323.54L287.739,321.826L290.653,320.081L293.568,318.306L296.482,316.5L299.397,314.665L302.312,312.8L305.226,310.907L308.141,308.985L311.055,307.035L313.97,305.057L316.884,303.053L319.799,301.022L322.714,298.965L325.628,296.883L328.543,294.776L331.457,292.645L334.372,290.49L337.286,288.312L340.201,286.111L343.116,283.889L346.03,281.644L348.945,279.38L351.859,277.094L354.774,274.789L357.688,272.465L360.603,270.123L363.518,267.762L366.432,265.384L369.347,262.989L372.261,260.578L375.176,258.15L378.09,255.708L381.005,253.25L383.92,250.778L386.834,248.293L389.749,245.794L392.663,243.282L395.578,240.758L398.492,238.221L401.407,235.673L404.322,233.114L407.236,230.544L410.151,227.964L413.065,225.374L415.98,222.775L418.894,220.166L421.809,217.548L424.724,214.922L427.638,212.287L430.553,209.645L433.467,206.995L436.382,204.338L439.296,201.674L442.211,199.003L445.126,196.326L448.04,193.643L450.955,190.954L453.869,188.259L456.784,185.558L459.698,182.853L462.613,180.142L465.528,177.427L468.442,174.707L471.357,171.983L474.271,169.254L477.186,166.522L480.101,163.785L483.015,161.045L485.93,158.302L488.844,155.555L491.759,152.805L494.673,150.051L497.588,147.295L500.503,144.536L503.417,141.774L506.332,139.009L509.246,136.242L512.161,133.473L515.075,130.701L517.99,127.927L520.905,125.151L523.819,122.374L526.734,119.594L529.648,116.812L532.563,114.029L535.477,111.244L538.392,108.457L541.307,105.669L544.221,102.879L547.136,100.088L550.05,97.296L552.965,94.502L555.879,91.707L558.794,88.911L561.709,86.114L564.623,83.316L567.538,80.517L570.452,77.716L573.367,74.915L576.281,72.113L579.196,69.31L582.111,66.507L585.025,63.702L587.94,60.897L590.854,58.091L593.769,55.285L596.683,52.478L599.598,49.67L602.513,46.861L605.427,44.052L608.342,41.243L611.256,38.433L614.171,35.622L617.085,32.811L620,30\"></path><path stroke=\"#efb118\" d=\"M40,380L42.915,380L45.829,380L48.744,380L51.658,380L54.573,380L57.487,380L60.402,380L63.317,380L66.231,380L69.146,380L72.06,380L74.975,380L77.889,380L80.804,380L83.719,380L86.633,380L89.548,380L92.462,380L95.377,380L98.291,380L101.206,380L104.121,380L107.035,380L109.95,380L112.864,380L115.779,380L118.693,380L121.608,380L124.523,380L127.437,380L130.352,380L133.266,380L136.181,380L139.095,380L142.01,380L144.925,380L147.839,373.533L150.754,373.533L153.668,373.533L156.583,373.533L159.497,373.533L162.412,373.533L165.327,373.533L168.241,373.533L171.156,373.533L174.07,373.533L176.985,370.047L179.899,370.047L182.814,370.047L185.729,370.047L188.643,370.047L191.558,370.047L194.472,370.047L197.387,370.047L200.302,370.047L203.216,363.993L206.131,363.993L209.045,363.993L211.96,363.993L214.874,363.993L217.789,363.993L220.704,363.993L223.618,363.993L226.533,363.993L229.447,363.993L232.362,354.456L235.276,354.456L238.191,354.456L241.106,354.456L244.02,354.456L246.935,354.456L249.849,354.456L252.764,354.456L255.678,354.456L258.593,342.763L261.508,342.763L264.422,342.763L267.337,342.763L270.251,342.763L273.166,342.763L276.08,342.763L278.995,342.763L281.91,342.763L284.824,342.763L287.739,330.076L290.653,330.076L293.568,330.076L296.482,330.076L299.397,330.076L302.312,330.076L305.226,330.076L308.141,330.076L311.055,330.076L313.97,330.076L316.884,317.304L319.799,317.304L322.714,317.304L325.628,317.304L328.543,317.304L331.457,317.304L334.372,317.304L337.286,317.304L340.201,317.304L343.116,298.728L346.03,298.728L348.945,298.728L351.859,298.728L354.774,298.728L357.688,298.728L360.603,298.728L363.518,298.728L366.432,298.728L369.347,298.728L372.261,277.83L375.176,277.83L378.09,277.83L381.005,277.83L383.92,277.83L386.834,277.83L389.749,277.83L392.663,277.83L395.578,277.83L398.492,264.064L401.407,264.064L404.322,264.064L407.236,264.064L410.151,264.064L413.065,264.064L415.98,264.064L418.894,264.064L421.809,264.064L424.724,264.064L427.638,238.937L430.553,238.937L433.467,238.937L436.382,238.937L439.296,238.937L442.211,238.937L445.126,238.937L448.04,238.937L450.955,238.937L453.869,214.31L456.784,214.31L459.698,214.31L462.613,214.31L465.528,214.31L468.442,214.31L471.357,214.31L474.271,214.31L477.186,214.31L480.101,214.31L483.015,187.939L485.93,187.939L488.844,187.939L491.759,187.939L494.673,187.939L497.588,187.939L500.503,187.939L503.417,187.939L506.332,187.939L509.246,162.811L512.161,162.811L515.075,162.811L517.99,162.811L520.905,162.811L523.819,162.811L526.734,162.811L529.648,162.811L532.563,162.811L535.477,162.811L538.392,144.15L541.307,144.15L544.221,144.15L547.136,144.15L550.05,144.15L552.965,144.15L555.879,144.15L558.794,144.15L561.709,144.15L564.623,144.15L567.538,144.15L570.452,144.15L573.367,144.15L576.281,144.15L579.196,144.15L582.111,144.15L585.025,144.15L587.94,144.15L590.854,144.15L593.769,144.15L596.683,144.15L599.598,144.15L602.513,144.15L605.427,144.15L608.342,144.15L611.256,144.15L614.171,144.15L617.085,144.15L620,144.15\"></path></g><g aria-label=\"text\" text-anchor=\"start\" transform=\"translate(3,0)\"><text y=\"0.32em\" transform=\"translate(620,30)\">Channel capacity</text><text y=\"0.32em\" transform=\"translate(620,144.15026231588166)\">LTE throughput</text></g></svg></figure>"
            ]
          },
          "execution_count": 5,
          "metadata": {},
          "output_type": "execute_result"
        }
      ],
      "source": [
        "import { plotFunctions, plotBoxes, plotBars } from \"./helper.ts\";\n",
        "\n",
        "const dbToFactor = (db: number) => Math.pow(10, db / 10);\n",
        "\n",
        "const factorToDb = (factor: number) => 10 * Math.log10(factor);\n",
        "\n",
        "const bandwidth = 20e6;\n",
        "\n",
        "await plotFunctions({\n",
        "  from: -15,\n",
        "  to: 25,\n",
        "  step: 0.2,\n",
        "  xName: \"SNR (dB)\",\n",
        "  yName: \"Bits per Second\",\n",
        "  colorName: \"__color\",\n",
        "  data: [\n",
        "    [\"Channel capacity\", (snrDb) => shannonsEquation(dbToFactor(snrDb), bandwidth)],\n",
        "    [\"LTE throughput\", (snrDb) => lteThroughput(snrDb, bandwidth)],\n",
        "  ],\n",
        "});\n"
      ]
    },
    {
      "cell_type": "markdown",
      "metadata": {},
      "source": [
        "# LTE throughput at the link layer\n",
        "\n",
        "We measured the bandwidth and SNR five times on the same Smartphone and got the following results:"
      ]
    },
    {
      "cell_type": "code",
      "execution_count": 6,
      "metadata": {},
      "outputs": [],
      "source": [
        "const measurementsExerciseTwo = [\n",
        "    {snr: 8.4 , bandwidth: 20e6},\n",
        "    {snr: 11.8, bandwidth: 10e6},\n",
        "    {snr: 8.6 , bandwidth: 20e6},\n",
        "    {snr: 12.4, bandwidth: 10e6},\n",
        "    {snr: 7.4 , bandwidth: 20e6},\n",
        "]"
      ]
    },
    {
      "cell_type": "markdown",
      "metadata": {},
      "source": [
        "It is interesting to see that our phone sometimes uses 20mHz nd sometimes 10mHz bandwidth. When using 10mHz the SNR is a lot higher than when using 20mHz. I would assume that our phone chooses the connection with the better datarate, so the SNR probably compensates for the lower bandwidth. We can calculate the datarate by using the formualas from above:"
      ]
    },
    {
      "cell_type": "code",
      "execution_count": 7,
      "metadata": {},
      "outputs": [
        {
          "data": {
            "text/html": [
              "<figure class=\"plot-d6a7b5-figure\" style=\"max-width: initial;\"><h2></h2><svg class=\"plot-d6a7b5\" fill=\"currentColor\" font-family=\"system-ui, sans-serif\" font-size=\"10\" text-anchor=\"middle\" width=\"640\" height=\"160\" viewBox=\"0 0 640 160\" style=\"background: none; overflow: visible;\"><style>:where(.plot-d6a7b5) {\n",
              "  --plot-background: white;\n",
              "  display: block;\n",
              "  height: auto;\n",
              "  height: intrinsic;\n",
              "  max-width: 100%;\n",
              "}\n",
              ":where(.plot-d6a7b5 text),\n",
              ":where(.plot-d6a7b5 tspan) {\n",
              "  white-space: pre;\n",
              "}</style><g aria-label=\"fy-axis tick label\" transform=\"translate(-9,0)\"><g text-anchor=\"end\" transform=\"translate(0,1)\"><text y=\"0.32em\" transform=\"translate(50,40)\">1</text></g><g text-anchor=\"end\" transform=\"translate(0,23)\"><text y=\"0.32em\" transform=\"translate(50,40)\">2</text></g><g text-anchor=\"end\" transform=\"translate(0,45)\"><text y=\"0.32em\" transform=\"translate(50,40)\">3</text></g><g text-anchor=\"end\" transform=\"translate(0,67)\"><text y=\"0.32em\" transform=\"translate(50,40)\">4</text></g><g text-anchor=\"end\" transform=\"translate(0,89)\"><text y=\"0.32em\" transform=\"translate(50,40)\">5</text></g></g><g aria-label=\"fy-axis label\" transform=\"translate(-47,0)\"><text y=\"0.71em\" transform=\"translate(50,85) rotate(-90)\">Measurement</text></g><g aria-label=\"x-grid\"><g stroke=\"currentColor\" stroke-opacity=\"0.1\" transform=\"translate(0,1)\"><line x1=\"50\" x2=\"50\" y1=\"30\" y2=\"50\"></line><line x1=\"153.63636363636363\" x2=\"153.63636363636363\" y1=\"30\" y2=\"50\"></line><line x1=\"257.2727272727273\" x2=\"257.2727272727273\" y1=\"30\" y2=\"50\"></line><line x1=\"360.9090909090909\" x2=\"360.9090909090909\" y1=\"30\" y2=\"50\"></line><line x1=\"464.54545454545456\" x2=\"464.54545454545456\" y1=\"30\" y2=\"50\"></line><line x1=\"568.1818181818181\" x2=\"568.1818181818181\" y1=\"30\" y2=\"50\"></line></g><g stroke=\"currentColor\" stroke-opacity=\"0.1\" transform=\"translate(0,23)\"><line x1=\"50\" x2=\"50\" y1=\"30\" y2=\"50\"></line><line x1=\"153.63636363636363\" x2=\"153.63636363636363\" y1=\"30\" y2=\"50\"></line><line x1=\"257.2727272727273\" x2=\"257.2727272727273\" y1=\"30\" y2=\"50\"></line><line x1=\"360.9090909090909\" x2=\"360.9090909090909\" y1=\"30\" y2=\"50\"></line><line x1=\"464.54545454545456\" x2=\"464.54545454545456\" y1=\"30\" y2=\"50\"></line><line x1=\"568.1818181818181\" x2=\"568.1818181818181\" y1=\"30\" y2=\"50\"></line></g><g stroke=\"currentColor\" stroke-opacity=\"0.1\" transform=\"translate(0,45)\"><line x1=\"50\" x2=\"50\" y1=\"30\" y2=\"50\"></line><line x1=\"153.63636363636363\" x2=\"153.63636363636363\" y1=\"30\" y2=\"50\"></line><line x1=\"257.2727272727273\" x2=\"257.2727272727273\" y1=\"30\" y2=\"50\"></line><line x1=\"360.9090909090909\" x2=\"360.9090909090909\" y1=\"30\" y2=\"50\"></line><line x1=\"464.54545454545456\" x2=\"464.54545454545456\" y1=\"30\" y2=\"50\"></line><line x1=\"568.1818181818181\" x2=\"568.1818181818181\" y1=\"30\" y2=\"50\"></line></g><g stroke=\"currentColor\" stroke-opacity=\"0.1\" transform=\"translate(0,67)\"><line x1=\"50\" x2=\"50\" y1=\"30\" y2=\"50\"></line><line x1=\"153.63636363636363\" x2=\"153.63636363636363\" y1=\"30\" y2=\"50\"></line><line x1=\"257.2727272727273\" x2=\"257.2727272727273\" y1=\"30\" y2=\"50\"></line><line x1=\"360.9090909090909\" x2=\"360.9090909090909\" y1=\"30\" y2=\"50\"></line><line x1=\"464.54545454545456\" x2=\"464.54545454545456\" y1=\"30\" y2=\"50\"></line><line x1=\"568.1818181818181\" x2=\"568.1818181818181\" y1=\"30\" y2=\"50\"></line></g><g stroke=\"currentColor\" stroke-opacity=\"0.1\" transform=\"translate(0,89)\"><line x1=\"50\" x2=\"50\" y1=\"30\" y2=\"50\"></line><line x1=\"153.63636363636363\" x2=\"153.63636363636363\" y1=\"30\" y2=\"50\"></line><line x1=\"257.2727272727273\" x2=\"257.2727272727273\" y1=\"30\" y2=\"50\"></line><line x1=\"360.9090909090909\" x2=\"360.9090909090909\" y1=\"30\" y2=\"50\"></line><line x1=\"464.54545454545456\" x2=\"464.54545454545456\" y1=\"30\" y2=\"50\"></line><line x1=\"568.1818181818181\" x2=\"568.1818181818181\" y1=\"30\" y2=\"50\"></line></g></g><g aria-label=\"x-axis tick\"><g fill=\"none\" stroke=\"currentColor\" transform=\"translate(0,1)\"><path transform=\"translate(50,30)\" d=\"M0,0L0,-6\"></path><path transform=\"translate(153.63636363636363,30)\" d=\"M0,0L0,-6\"></path><path transform=\"translate(257.2727272727273,30)\" d=\"M0,0L0,-6\"></path><path transform=\"translate(360.9090909090909,30)\" d=\"M0,0L0,-6\"></path><path transform=\"translate(464.54545454545456,30)\" d=\"M0,0L0,-6\"></path><path transform=\"translate(568.1818181818181,30)\" d=\"M0,0L0,-6\"></path></g></g><g aria-label=\"x-axis tick label\" transform=\"translate(0,-9)\"><g font-variant=\"tabular-nums\" transform=\"translate(0,1)\"><text transform=\"translate(50,30)\">0</text><text transform=\"translate(153.63636363636363,30)\">10,000,000</text><text transform=\"translate(257.2727272727273,30)\">20,000,000</text><text transform=\"translate(360.9090909090909,30)\">30,000,000</text><text transform=\"translate(464.54545454545456,30)\">40,000,000</text><text transform=\"translate(568.1818181818181,30)\">50,000,000</text></g></g><g aria-label=\"x-axis label\" text-anchor=\"end\" transform=\"translate(17,-27)\"><text y=\"0.71em\" transform=\"translate(620,31)\">Datarate (bits per second) →</text></g><g aria-label=\"bar\"><g transform=\"translate(0,1)\"><rect x=\"50\" width=\"498.76036363636365\" y=\"30\" height=\"20\"></rect></g><g transform=\"translate(0,23)\"><rect x=\"50\" width=\"344.31109090909086\" y=\"30\" height=\"20\"></rect></g><g transform=\"translate(0,45)\"><rect x=\"50\" width=\"498.76036363636365\" y=\"30\" height=\"20\"></rect></g><g transform=\"translate(0,67)\"><rect x=\"50\" width=\"344.31109090909086\" y=\"30\" height=\"20\"></rect></g><g transform=\"translate(0,89)\"><rect x=\"50\" width=\"396.74072727272727\" y=\"30\" height=\"20\"></rect></g></g><g aria-label=\"text\" transform=\"translate(3,0)\"><g text-anchor=\"start\" font-variant=\"tabular-nums\" transform=\"translate(0,1)\"><text y=\"0.32em\" transform=\"translate(548.7603636363636,40)\">48,126,000</text></g><g text-anchor=\"start\" font-variant=\"tabular-nums\" transform=\"translate(0,23)\"><text y=\"0.32em\" transform=\"translate(394.31109090909086,40)\">33,223,000</text></g><g text-anchor=\"start\" font-variant=\"tabular-nums\" transform=\"translate(0,45)\"><text y=\"0.32em\" transform=\"translate(548.7603636363636,40)\">48,126,000</text></g><g text-anchor=\"start\" font-variant=\"tabular-nums\" transform=\"translate(0,67)\"><text y=\"0.32em\" transform=\"translate(394.31109090909086,40)\">33,223,000</text></g><g text-anchor=\"start\" font-variant=\"tabular-nums\" transform=\"translate(0,89)\"><text y=\"0.32em\" transform=\"translate(446.74072727272727,40)\">38,282,000</text></g></g></svg></figure>"
            ]
          },
          "execution_count": 7,
          "metadata": {},
          "output_type": "execute_result"
        }
      ],
      "source": [
        "const datarates = measurementsExerciseTwo.map(({snr, bandwidth}) => lteThroughput(snr, bandwidth));\n",
        "\n",
        "plotBars({\n",
        "    data: datarates,\n",
        "    yName: \"Datarate (bits per second)\",\n",
        "    xName: \"Measurement\",\n",
        "})"
      ]
    },
    {
      "cell_type": "markdown",
      "metadata": {},
      "source": [
        "The exercise requested a chart with a single bar:"
      ]
    },
    {
      "cell_type": "code",
      "execution_count": 8,
      "metadata": {},
      "outputs": [
        {
          "data": {
            "text/html": [
              "<figure class=\"plot-d6a7b5-figure\" style=\"max-width: initial;\"><h2></h2><svg class=\"plot-d6a7b5\" fill=\"currentColor\" font-family=\"system-ui, sans-serif\" font-size=\"10\" text-anchor=\"middle\" width=\"640\" height=\"80\" viewBox=\"0 0 640 80\" style=\"background: none; overflow: visible;\"><style>:where(.plot-d6a7b5) {\n",
              "  --plot-background: white;\n",
              "  display: block;\n",
              "  height: auto;\n",
              "  height: intrinsic;\n",
              "  max-width: 100%;\n",
              "}\n",
              ":where(.plot-d6a7b5 text),\n",
              ":where(.plot-d6a7b5 tspan) {\n",
              "  white-space: pre;\n",
              "}</style><g aria-label=\"fy-axis tick label\" transform=\"translate(-9,0)\"><g text-anchor=\"end\" transform=\"translate(0,2)\"><text y=\"0.32em\" transform=\"translate(40,43.5)\">1</text></g></g><g aria-label=\"fy-axis label\" transform=\"translate(-37,0)\"><text y=\"0.71em\" transform=\"translate(40,45.5) rotate(-90)\"></text></g><g aria-label=\"x-grid\"><g stroke=\"currentColor\" stroke-opacity=\"0.1\" transform=\"translate(0,2)\"><line x1=\"40\" x2=\"40\" y1=\"30\" y2=\"57\"></line><line x1=\"145.45454545454547\" x2=\"145.45454545454547\" y1=\"30\" y2=\"57\"></line><line x1=\"250.90909090909093\" x2=\"250.90909090909093\" y1=\"30\" y2=\"57\"></line><line x1=\"356.3636363636363\" x2=\"356.3636363636363\" y1=\"30\" y2=\"57\"></line><line x1=\"461.81818181818187\" x2=\"461.81818181818187\" y1=\"30\" y2=\"57\"></line><line x1=\"567.2727272727273\" x2=\"567.2727272727273\" y1=\"30\" y2=\"57\"></line></g></g><g aria-label=\"x-axis tick\"><g fill=\"none\" stroke=\"currentColor\" transform=\"translate(0,2)\"><path transform=\"translate(40,30)\" d=\"M0,0L0,-6\"></path><path transform=\"translate(145.45454545454547,30)\" d=\"M0,0L0,-6\"></path><path transform=\"translate(250.90909090909093,30)\" d=\"M0,0L0,-6\"></path><path transform=\"translate(356.3636363636363,30)\" d=\"M0,0L0,-6\"></path><path transform=\"translate(461.81818181818187,30)\" d=\"M0,0L0,-6\"></path><path transform=\"translate(567.2727272727273,30)\" d=\"M0,0L0,-6\"></path></g></g><g aria-label=\"x-axis tick label\" transform=\"translate(0,-9)\"><g font-variant=\"tabular-nums\" transform=\"translate(0,2)\"><text transform=\"translate(40,30)\">0</text><text transform=\"translate(145.45454545454547,30)\">10,000,000</text><text transform=\"translate(250.90909090909093,30)\">20,000,000</text><text transform=\"translate(356.3636363636363,30)\">30,000,000</text><text transform=\"translate(461.81818181818187,30)\">40,000,000</text><text transform=\"translate(567.2727272727273,30)\">50,000,000</text></g></g><g aria-label=\"x-axis label\" text-anchor=\"end\" transform=\"translate(17,-27)\"><text y=\"0.71em\" transform=\"translate(620,32)\">Datarate (bits per second) →</text></g><g aria-label=\"rule\"><g stroke=\"currentColor\" transform=\"translate(0,2)\"><line x1=\"390.3516363636363\" x2=\"547.5105454545454\" y1=\"43.5\" y2=\"43.5\"></line></g></g><g aria-label=\"bar\"><g fill=\"#ccc\" transform=\"translate(0,2)\"><rect x=\"390.3516363636363\" width=\"157.1589090909091\" y=\"30\" height=\"27\"></rect></g></g><g aria-label=\"tick\"><g stroke=\"currentColor\" stroke-width=\"2\" transform=\"translate(0,2)\"><line x1=\"443.7010909090909\" x2=\"443.7010909090909\" y1=\"30\" y2=\"57\"></line></g></g></svg></figure>"
            ]
          },
          "execution_count": 8,
          "metadata": {},
          "output_type": "execute_result"
        }
      ],
      "source": [
        "plotBoxes({\n",
        "    data: [[\"Indoors\", [datarates]]],\n",
        "    yName: \"Datarate (bits per second)\",\n",
        "})"
      ]
    },
    {
      "cell_type": "markdown",
      "metadata": {},
      "source": [
        "# Interference in LTE\n",
        "\n",
        "For the third exercise we measured the RSRP and the SNR of the connected cell, and the RSRP of at least three neighbouring cells. For better comparability of our measurements we discarded all measurements where the bandwidth was only 10mHz. In total we made the following 5 measurements:"
      ]
    },
    {
      "cell_type": "code",
      "execution_count": 9,
      "metadata": {},
      "outputs": [
        {
          "data": {
            "text/html": [
              "<figure class=\"plot-d6a7b5-figure\" style=\"max-width: initial;\"><h2></h2><svg class=\"plot-d6a7b5\" fill=\"currentColor\" font-family=\"system-ui, sans-serif\" font-size=\"10\" text-anchor=\"middle\" width=\"640\" height=\"160\" viewBox=\"0 0 640 160\" style=\"background: none; overflow: visible;\"><style>:where(.plot-d6a7b5) {\n",
              "  --plot-background: white;\n",
              "  display: block;\n",
              "  height: auto;\n",
              "  height: intrinsic;\n",
              "  max-width: 100%;\n",
              "}\n",
              ":where(.plot-d6a7b5 text),\n",
              ":where(.plot-d6a7b5 tspan) {\n",
              "  white-space: pre;\n",
              "}</style><g aria-label=\"fy-axis tick label\" transform=\"translate(-9,0)\"><g text-anchor=\"end\" transform=\"translate(0,1)\"><text y=\"0.32em\" transform=\"translate(50,40)\">1</text></g><g text-anchor=\"end\" transform=\"translate(0,23)\"><text y=\"0.32em\" transform=\"translate(50,40)\">2</text></g><g text-anchor=\"end\" transform=\"translate(0,45)\"><text y=\"0.32em\" transform=\"translate(50,40)\">3</text></g><g text-anchor=\"end\" transform=\"translate(0,67)\"><text y=\"0.32em\" transform=\"translate(50,40)\">4</text></g><g text-anchor=\"end\" transform=\"translate(0,89)\"><text y=\"0.32em\" transform=\"translate(50,40)\">5</text></g></g><g aria-label=\"fy-axis label\" transform=\"translate(-47,0)\"><text y=\"0.71em\" transform=\"translate(50,85) rotate(-90)\">Measurement</text></g><g aria-label=\"x-grid\"><g stroke=\"currentColor\" stroke-opacity=\"0.1\" transform=\"translate(0,1)\"><line x1=\"50\" x2=\"50\" y1=\"30\" y2=\"50\"></line><line x1=\"145\" x2=\"145\" y1=\"30\" y2=\"50\"></line><line x1=\"240\" x2=\"240\" y1=\"30\" y2=\"50\"></line><line x1=\"335\" x2=\"335\" y1=\"30\" y2=\"50\"></line><line x1=\"430\" x2=\"430\" y1=\"30\" y2=\"50\"></line><line x1=\"525.0000000000001\" x2=\"525.0000000000001\" y1=\"30\" y2=\"50\"></line><line x1=\"620\" x2=\"620\" y1=\"30\" y2=\"50\"></line></g><g stroke=\"currentColor\" stroke-opacity=\"0.1\" transform=\"translate(0,23)\"><line x1=\"50\" x2=\"50\" y1=\"30\" y2=\"50\"></line><line x1=\"145\" x2=\"145\" y1=\"30\" y2=\"50\"></line><line x1=\"240\" x2=\"240\" y1=\"30\" y2=\"50\"></line><line x1=\"335\" x2=\"335\" y1=\"30\" y2=\"50\"></line><line x1=\"430\" x2=\"430\" y1=\"30\" y2=\"50\"></line><line x1=\"525.0000000000001\" x2=\"525.0000000000001\" y1=\"30\" y2=\"50\"></line><line x1=\"620\" x2=\"620\" y1=\"30\" y2=\"50\"></line></g><g stroke=\"currentColor\" stroke-opacity=\"0.1\" transform=\"translate(0,45)\"><line x1=\"50\" x2=\"50\" y1=\"30\" y2=\"50\"></line><line x1=\"145\" x2=\"145\" y1=\"30\" y2=\"50\"></line><line x1=\"240\" x2=\"240\" y1=\"30\" y2=\"50\"></line><line x1=\"335\" x2=\"335\" y1=\"30\" y2=\"50\"></line><line x1=\"430\" x2=\"430\" y1=\"30\" y2=\"50\"></line><line x1=\"525.0000000000001\" x2=\"525.0000000000001\" y1=\"30\" y2=\"50\"></line><line x1=\"620\" x2=\"620\" y1=\"30\" y2=\"50\"></line></g><g stroke=\"currentColor\" stroke-opacity=\"0.1\" transform=\"translate(0,67)\"><line x1=\"50\" x2=\"50\" y1=\"30\" y2=\"50\"></line><line x1=\"145\" x2=\"145\" y1=\"30\" y2=\"50\"></line><line x1=\"240\" x2=\"240\" y1=\"30\" y2=\"50\"></line><line x1=\"335\" x2=\"335\" y1=\"30\" y2=\"50\"></line><line x1=\"430\" x2=\"430\" y1=\"30\" y2=\"50\"></line><line x1=\"525.0000000000001\" x2=\"525.0000000000001\" y1=\"30\" y2=\"50\"></line><line x1=\"620\" x2=\"620\" y1=\"30\" y2=\"50\"></line></g><g stroke=\"currentColor\" stroke-opacity=\"0.1\" transform=\"translate(0,89)\"><line x1=\"50\" x2=\"50\" y1=\"30\" y2=\"50\"></line><line x1=\"145\" x2=\"145\" y1=\"30\" y2=\"50\"></line><line x1=\"240\" x2=\"240\" y1=\"30\" y2=\"50\"></line><line x1=\"335\" x2=\"335\" y1=\"30\" y2=\"50\"></line><line x1=\"430\" x2=\"430\" y1=\"30\" y2=\"50\"></line><line x1=\"525.0000000000001\" x2=\"525.0000000000001\" y1=\"30\" y2=\"50\"></line><line x1=\"620\" x2=\"620\" y1=\"30\" y2=\"50\"></line></g></g><g aria-label=\"x-axis tick\"><g fill=\"none\" stroke=\"currentColor\" transform=\"translate(0,1)\"><path transform=\"translate(50,30)\" d=\"M0,0L0,-6\"></path><path transform=\"translate(145,30)\" d=\"M0,0L0,-6\"></path><path transform=\"translate(240,30)\" d=\"M0,0L0,-6\"></path><path transform=\"translate(335,30)\" d=\"M0,0L0,-6\"></path><path transform=\"translate(430,30)\" d=\"M0,0L0,-6\"></path><path transform=\"translate(525.0000000000001,30)\" d=\"M0,0L0,-6\"></path><path transform=\"translate(620,30)\" d=\"M0,0L0,-6\"></path></g></g><g aria-label=\"x-axis tick label\" transform=\"translate(0,-9)\"><g font-variant=\"tabular-nums\" transform=\"translate(0,1)\"><text transform=\"translate(50,30)\">−120</text><text transform=\"translate(145,30)\">−100</text><text transform=\"translate(240,30)\">−80</text><text transform=\"translate(335,30)\">−60</text><text transform=\"translate(430,30)\">−40</text><text transform=\"translate(525.0000000000001,30)\">−20</text><text transform=\"translate(620,30)\">0</text></g></g><g aria-label=\"x-axis label\" text-anchor=\"end\" transform=\"translate(17,-27)\"><text y=\"0.71em\" transform=\"translate(620,31)\">RSRP (dBm) →</text></g><g aria-label=\"bar\"><g transform=\"translate(0,1)\"><rect x=\"130.75\" width=\"489.25\" y=\"30\" height=\"20\"></rect></g><g transform=\"translate(0,23)\"><rect x=\"145\" width=\"475\" y=\"30\" height=\"20\"></rect></g><g transform=\"translate(0,45)\"><rect x=\"164\" width=\"456\" y=\"30\" height=\"20\"></rect></g><g transform=\"translate(0,67)\"><rect x=\"149.75\" width=\"470.25\" y=\"30\" height=\"20\"></rect></g><g transform=\"translate(0,89)\"><rect x=\"145\" width=\"475\" y=\"30\" height=\"20\"></rect></g></g><g aria-label=\"text\" transform=\"translate(-3,0)\"><g text-anchor=\"end\" font-variant=\"tabular-nums\" transform=\"translate(0,1)\"><text y=\"0.32em\" transform=\"translate(130.75,40)\">-103</text></g><g text-anchor=\"end\" font-variant=\"tabular-nums\" transform=\"translate(0,23)\"><text y=\"0.32em\" transform=\"translate(145,40)\">-100</text></g><g text-anchor=\"end\" font-variant=\"tabular-nums\" transform=\"translate(0,45)\"><text y=\"0.32em\" transform=\"translate(164,40)\">-96</text></g><g text-anchor=\"end\" font-variant=\"tabular-nums\" transform=\"translate(0,67)\"><text y=\"0.32em\" transform=\"translate(149.75,40)\">-99</text></g><g text-anchor=\"end\" font-variant=\"tabular-nums\" transform=\"translate(0,89)\"><text y=\"0.32em\" transform=\"translate(145,40)\">-100</text></g></g></svg></figure>"
            ]
          },
          "execution_count": 9,
          "metadata": {},
          "output_type": "execute_result"
        }
      ],
      "source": [
        "const measurementsExerciseThree = [\n",
        "  {\n",
        "    rsrpDbm: -103,\n",
        "    snrDb: 7.6,\n",
        "    neighbours: [\n",
        "      { id: 51, rsrpDbm: -112 },\n",
        "      { id: 53, rsrpDbm: -108 },\n",
        "      { id: 485, rsrpDbm: -111 },\n",
        "    ],\n",
        "  },\n",
        "  {\n",
        "    rsrpDbm: -100,\n",
        "    snrDb: 8.2,\n",
        "    neighbours: [\n",
        "      { id: 51, rsrpDbm: -113 },\n",
        "      { id: 53, rsrpDbm: -115 },\n",
        "      { id: 485, rsrpDbm: -113 },\n",
        "      // {id: 331, rsrpDbm: -114},\n",
        "    ],\n",
        "  },\n",
        "  {\n",
        "    rsrpDbm: -96,\n",
        "    snrDb: 9.8,\n",
        "    neighbours: [\n",
        "      { id: 326, rsrpDbm: -108 },\n",
        "      { id: 155, rsrpDbm: -109 },\n",
        "      { id: 429, rsrpDbm: -103 },\n",
        "    ],\n",
        "  },\n",
        "  {\n",
        "    rsrpDbm: -99,\n",
        "    snrDb: 8.4,\n",
        "    neighbours: [\n",
        "      { id: 51, rsrpDbm: -109 },\n",
        "      { id: 485, rsrpDbm: -113 },\n",
        "      { id: 485, rsrpDbm: -113 },\n",
        "    ],\n",
        "  },\n",
        "  {\n",
        "    rsrpDbm: -100,\n",
        "    snrDb: 7.2,\n",
        "    neighbours: [\n",
        "      { id: 51, rsrpDbm: -113 },\n",
        "      { id: 53, rsrpDbm: -112 },\n",
        "      { id: 253, rsrpDbm: -113 },\n",
        "    ],\n",
        "  },\n",
        "];\n",
        "type Measurement = (typeof measurementsExerciseThree)[number];\n",
        "\n",
        "plotBars({\n",
        "  data: measurementsExerciseThree,\n",
        "  yName: [\"rsrpDbm\", \"RSRP (dBm)\"],\n",
        "  xName: \"Measurement\",\n",
        "})\n"
      ]
    },
    {
      "cell_type": "markdown",
      "metadata": {},
      "source": [
        "We can calculate the Signal-to-Interference-plus-Noise Ratio (SINR) from the measured RSRP of the connected and the neighbouring cells. The value for noise was specified in the assignment sheet."
      ]
    },
    {
      "cell_type": "code",
      "execution_count": 10,
      "metadata": {},
      "outputs": [],
      "source": [
        "const noise = dbToFactor(-134);\n",
        "\n",
        "const calculateSinr = ({ rsrpDbm, neighbours }: Measurement) =>\n",
        "  rsrpDbm -\n",
        "  factorToDb(\n",
        "    noise +\n",
        "      neighbours.reduce((acc, neighbour) => acc + dbToFactor(neighbour.rsrpDbm),0)\n",
        "  );"
      ]
    },
    {
      "cell_type": "markdown",
      "metadata": {},
      "source": [
        "We then compare the SINR to the SNR:"
      ]
    },
    {
      "cell_type": "code",
      "execution_count": 11,
      "metadata": {},
      "outputs": [
        {
          "data": {
            "text/html": [
              "<figure class=\"plot-d6a7b5-figure\" style=\"max-width: initial;\"><h2></h2><div class=\"plot-d6a7b5-swatches plot-d6a7b5-swatches-wrap\"><style>:where(.plot-d6a7b5-swatches) {\n",
              "  font-family: system-ui, sans-serif;\n",
              "  font-size: 10px;\n",
              "  margin-bottom: 0.5em;\n",
              "}\n",
              ":where(.plot-d6a7b5-swatch > svg) {\n",
              "  margin-right: 0.5em;\n",
              "  overflow: visible;\n",
              "}\n",
              ":where(.plot-d6a7b5-swatches-wrap) {\n",
              "  display: flex;\n",
              "  align-items: center;\n",
              "  min-height: 33px;\n",
              "  flex-wrap: wrap;\n",
              "}\n",
              ":where(.plot-d6a7b5-swatches-wrap .plot-d6a7b5-swatch) {\n",
              "  display: inline-flex;\n",
              "  align-items: center;\n",
              "  margin-right: 1em;\n",
              "}</style><span class=\"plot-d6a7b5-swatch\"><svg width=\"15\" height=\"15\" fill=\"#4269d0\"><rect width=\"100%\" height=\"100%\"></rect></svg>SINR</span><span class=\"plot-d6a7b5-swatch\"><svg width=\"15\" height=\"15\" fill=\"#efb118\"><rect width=\"100%\" height=\"100%\"></rect></svg>SNR</span></div><svg class=\"plot-d6a7b5\" fill=\"currentColor\" font-family=\"system-ui, sans-serif\" font-size=\"10\" text-anchor=\"middle\" width=\"640\" height=\"260\" viewBox=\"0 0 640 260\" style=\"background: none; overflow: visible;\"><style>:where(.plot-d6a7b5) {\n",
              "  --plot-background: white;\n",
              "  display: block;\n",
              "  height: auto;\n",
              "  height: intrinsic;\n",
              "  max-width: 100%;\n",
              "}\n",
              ":where(.plot-d6a7b5 text),\n",
              ":where(.plot-d6a7b5 tspan) {\n",
              "  white-space: pre;\n",
              "}</style><g aria-label=\"fy-axis tick label\" transform=\"translate(-9,0)\"><g text-anchor=\"end\" transform=\"translate(0,2)\"><text y=\"0.32em\" transform=\"translate(50,49)\">1</text></g><g text-anchor=\"end\" transform=\"translate(0,44)\"><text y=\"0.32em\" transform=\"translate(50,49)\">2</text></g><g text-anchor=\"end\" transform=\"translate(0,86)\"><text y=\"0.32em\" transform=\"translate(50,49)\">3</text></g><g text-anchor=\"end\" transform=\"translate(0,128)\"><text y=\"0.32em\" transform=\"translate(50,49)\">4</text></g><g text-anchor=\"end\" transform=\"translate(0,170)\"><text y=\"0.32em\" transform=\"translate(50,49)\">5</text></g></g><g aria-label=\"fy-axis label\" transform=\"translate(-47,0)\"><text y=\"0.71em\" transform=\"translate(50,135) rotate(-90)\">Measurement</text></g><g aria-label=\"y-axis label\" transform=\"translate(-47,0)\"><text y=\"0.71em\" transform=\"translate(50,135) rotate(-90)\"></text></g><g aria-label=\"x-grid\"><g stroke=\"currentColor\" stroke-opacity=\"0.1\" transform=\"translate(0,2)\"><line x1=\"50\" x2=\"50\" y1=\"30\" y2=\"68\"></line><line x1=\"153.63636363636363\" x2=\"153.63636363636363\" y1=\"30\" y2=\"68\"></line><line x1=\"257.2727272727273\" x2=\"257.2727272727273\" y1=\"30\" y2=\"68\"></line><line x1=\"360.9090909090909\" x2=\"360.9090909090909\" y1=\"30\" y2=\"68\"></line><line x1=\"464.54545454545456\" x2=\"464.54545454545456\" y1=\"30\" y2=\"68\"></line><line x1=\"568.1818181818181\" x2=\"568.1818181818181\" y1=\"30\" y2=\"68\"></line></g><g stroke=\"currentColor\" stroke-opacity=\"0.1\" transform=\"translate(0,44)\"><line x1=\"50\" x2=\"50\" y1=\"30\" y2=\"68\"></line><line x1=\"153.63636363636363\" x2=\"153.63636363636363\" y1=\"30\" y2=\"68\"></line><line x1=\"257.2727272727273\" x2=\"257.2727272727273\" y1=\"30\" y2=\"68\"></line><line x1=\"360.9090909090909\" x2=\"360.9090909090909\" y1=\"30\" y2=\"68\"></line><line x1=\"464.54545454545456\" x2=\"464.54545454545456\" y1=\"30\" y2=\"68\"></line><line x1=\"568.1818181818181\" x2=\"568.1818181818181\" y1=\"30\" y2=\"68\"></line></g><g stroke=\"currentColor\" stroke-opacity=\"0.1\" transform=\"translate(0,86)\"><line x1=\"50\" x2=\"50\" y1=\"30\" y2=\"68\"></line><line x1=\"153.63636363636363\" x2=\"153.63636363636363\" y1=\"30\" y2=\"68\"></line><line x1=\"257.2727272727273\" x2=\"257.2727272727273\" y1=\"30\" y2=\"68\"></line><line x1=\"360.9090909090909\" x2=\"360.9090909090909\" y1=\"30\" y2=\"68\"></line><line x1=\"464.54545454545456\" x2=\"464.54545454545456\" y1=\"30\" y2=\"68\"></line><line x1=\"568.1818181818181\" x2=\"568.1818181818181\" y1=\"30\" y2=\"68\"></line></g><g stroke=\"currentColor\" stroke-opacity=\"0.1\" transform=\"translate(0,128)\"><line x1=\"50\" x2=\"50\" y1=\"30\" y2=\"68\"></line><line x1=\"153.63636363636363\" x2=\"153.63636363636363\" y1=\"30\" y2=\"68\"></line><line x1=\"257.2727272727273\" x2=\"257.2727272727273\" y1=\"30\" y2=\"68\"></line><line x1=\"360.9090909090909\" x2=\"360.9090909090909\" y1=\"30\" y2=\"68\"></line><line x1=\"464.54545454545456\" x2=\"464.54545454545456\" y1=\"30\" y2=\"68\"></line><line x1=\"568.1818181818181\" x2=\"568.1818181818181\" y1=\"30\" y2=\"68\"></line></g><g stroke=\"currentColor\" stroke-opacity=\"0.1\" transform=\"translate(0,170)\"><line x1=\"50\" x2=\"50\" y1=\"30\" y2=\"68\"></line><line x1=\"153.63636363636363\" x2=\"153.63636363636363\" y1=\"30\" y2=\"68\"></line><line x1=\"257.2727272727273\" x2=\"257.2727272727273\" y1=\"30\" y2=\"68\"></line><line x1=\"360.9090909090909\" x2=\"360.9090909090909\" y1=\"30\" y2=\"68\"></line><line x1=\"464.54545454545456\" x2=\"464.54545454545456\" y1=\"30\" y2=\"68\"></line><line x1=\"568.1818181818181\" x2=\"568.1818181818181\" y1=\"30\" y2=\"68\"></line></g></g><g aria-label=\"x-axis tick\"><g fill=\"none\" stroke=\"currentColor\" transform=\"translate(0,2)\"><path transform=\"translate(50,30)\" d=\"M0,0L0,-6\"></path><path transform=\"translate(153.63636363636363,30)\" d=\"M0,0L0,-6\"></path><path transform=\"translate(257.2727272727273,30)\" d=\"M0,0L0,-6\"></path><path transform=\"translate(360.9090909090909,30)\" d=\"M0,0L0,-6\"></path><path transform=\"translate(464.54545454545456,30)\" d=\"M0,0L0,-6\"></path><path transform=\"translate(568.1818181818181,30)\" d=\"M0,0L0,-6\"></path></g></g><g aria-label=\"x-axis tick label\" transform=\"translate(0,-9)\"><g font-variant=\"tabular-nums\" transform=\"translate(0,2)\"><text transform=\"translate(50,30)\">0</text><text transform=\"translate(153.63636363636363,30)\">2</text><text transform=\"translate(257.2727272727273,30)\">4</text><text transform=\"translate(360.9090909090909,30)\">6</text><text transform=\"translate(464.54545454545456,30)\">8</text><text transform=\"translate(568.1818181818181,30)\">10</text></g></g><g aria-label=\"x-axis label\" text-anchor=\"end\" transform=\"translate(17,-27)\"><text y=\"0.71em\" transform=\"translate(620,32)\">dB →</text></g><g aria-label=\"bar\"><g transform=\"translate(0,2)\"><rect x=\"50\" width=\"114.4320187619285\" y=\"32\" height=\"16\" fill=\"#4269d0\"></rect><rect x=\"50\" width=\"393.8181818181818\" y=\"50\" height=\"16\" fill=\"#efb118\"></rect></g><g transform=\"translate(0,44)\"><rect x=\"50\" width=\"455.26260847020086\" y=\"32\" height=\"16\" fill=\"#4269d0\"></rect><rect x=\"50\" width=\"424.9090909090909\" y=\"50\" height=\"16\" fill=\"#efb118\"></rect></g><g transform=\"translate(0,86)\"><rect x=\"50\" width=\"261.4722534809484\" y=\"32\" height=\"16\" fill=\"#4269d0\"></rect><rect x=\"50\" width=\"507.81818181818187\" y=\"50\" height=\"16\" fill=\"#efb118\"></rect></g><g transform=\"translate(0,128)\"><rect x=\"50\" width=\"385.9821985751114\" y=\"32\" height=\"16\" fill=\"#4269d0\"></rect><rect x=\"50\" width=\"435.2727272727273\" y=\"50\" height=\"16\" fill=\"#efb118\"></rect></g><g transform=\"translate(0,170)\"><rect x=\"50\" width=\"407.2226753507544\" y=\"32\" height=\"16\" fill=\"#4269d0\"></rect><rect x=\"50\" width=\"373.09090909090907\" y=\"50\" height=\"16\" fill=\"#efb118\"></rect></g></g><g aria-label=\"text\" transform=\"translate(3,8)\"><g text-anchor=\"start\" font-variant=\"tabular-nums\" transform=\"translate(0,2)\"><text y=\"0.32em\" transform=\"translate(164.4320187619285,32)\">2.208</text><text y=\"0.32em\" transform=\"translate(443.8181818181818,50)\">7.6</text></g><g text-anchor=\"start\" font-variant=\"tabular-nums\" transform=\"translate(0,44)\"><text y=\"0.32em\" transform=\"translate(505.26260847020086,32)\">8.786</text><text y=\"0.32em\" transform=\"translate(474.9090909090909,50)\">8.2</text></g><g text-anchor=\"start\" font-variant=\"tabular-nums\" transform=\"translate(0,86)\"><text y=\"0.32em\" transform=\"translate(311.4722534809484,32)\">5.046</text><text y=\"0.32em\" transform=\"translate(557.8181818181819,50)\">9.8</text></g><g text-anchor=\"start\" font-variant=\"tabular-nums\" transform=\"translate(0,128)\"><text y=\"0.32em\" transform=\"translate(435.9821985751114,32)\">7.449</text><text y=\"0.32em\" transform=\"translate(485.2727272727273,50)\">8.4</text></g><g text-anchor=\"start\" font-variant=\"tabular-nums\" transform=\"translate(0,170)\"><text y=\"0.32em\" transform=\"translate(457.2226753507544,32)\">7.859</text><text y=\"0.32em\" transform=\"translate(423.09090909090907,50)\">7.2</text></g></g></svg></figure>"
            ]
          },
          "execution_count": 11,
          "metadata": {},
          "output_type": "execute_result"
        }
      ],
      "source": [
        "plotBars({\n",
        "  data: [\n",
        "    [\"SINR\", measurementsExerciseThree.map(calculateSinr)],\n",
        "    [\"SNR\", measurementsExerciseThree.map((x) => x.snrDb)],\n",
        "  ],\n",
        "  yName: \"dB\",\n",
        "  xName: \"Measurement\",\n",
        "});\n"
      ]
    },
    {
      "cell_type": "markdown",
      "metadata": {},
      "source": [
        "We now collapse all measurements into one:"
      ]
    },
    {
      "cell_type": "code",
      "execution_count": 12,
      "metadata": {},
      "outputs": [
        {
          "data": {
            "text/html": [
              "<figure class=\"plot-d6a7b5-figure\" style=\"max-width: initial;\"><h2></h2><svg class=\"plot-d6a7b5\" fill=\"currentColor\" font-family=\"system-ui, sans-serif\" font-size=\"10\" text-anchor=\"middle\" width=\"640\" height=\"100\" viewBox=\"0 0 640 100\" style=\"background: none; overflow: visible;\"><style>:where(.plot-d6a7b5) {\n",
              "  --plot-background: white;\n",
              "  display: block;\n",
              "  height: auto;\n",
              "  height: intrinsic;\n",
              "  max-width: 100%;\n",
              "}\n",
              ":where(.plot-d6a7b5 text),\n",
              ":where(.plot-d6a7b5 tspan) {\n",
              "  white-space: pre;\n",
              "}</style><g aria-label=\"fy-axis tick label\" transform=\"translate(-9,0)\"><g text-anchor=\"end\" transform=\"translate(0,0)\"><text y=\"0.32em\" transform=\"translate(40,41.5)\">SINR</text></g><g text-anchor=\"end\" transform=\"translate(0,26)\"><text y=\"0.32em\" transform=\"translate(40,41.5)\">SNR</text></g></g><g aria-label=\"fy-axis label\" transform=\"translate(-37,0)\"><text y=\"0.71em\" transform=\"translate(40,54.5) rotate(-90)\"></text></g><g aria-label=\"x-grid\"><g stroke=\"currentColor\" stroke-opacity=\"0.1\" transform=\"translate(0,0)\"><line x1=\"40\" x2=\"40\" y1=\"30\" y2=\"53\"></line><line x1=\"145.45454545454547\" x2=\"145.45454545454547\" y1=\"30\" y2=\"53\"></line><line x1=\"250.90909090909093\" x2=\"250.90909090909093\" y1=\"30\" y2=\"53\"></line><line x1=\"356.3636363636363\" x2=\"356.3636363636363\" y1=\"30\" y2=\"53\"></line><line x1=\"461.81818181818187\" x2=\"461.81818181818187\" y1=\"30\" y2=\"53\"></line><line x1=\"567.2727272727273\" x2=\"567.2727272727273\" y1=\"30\" y2=\"53\"></line></g><g stroke=\"currentColor\" stroke-opacity=\"0.1\" transform=\"translate(0,26)\"><line x1=\"40\" x2=\"40\" y1=\"30\" y2=\"53\"></line><line x1=\"145.45454545454547\" x2=\"145.45454545454547\" y1=\"30\" y2=\"53\"></line><line x1=\"250.90909090909093\" x2=\"250.90909090909093\" y1=\"30\" y2=\"53\"></line><line x1=\"356.3636363636363\" x2=\"356.3636363636363\" y1=\"30\" y2=\"53\"></line><line x1=\"461.81818181818187\" x2=\"461.81818181818187\" y1=\"30\" y2=\"53\"></line><line x1=\"567.2727272727273\" x2=\"567.2727272727273\" y1=\"30\" y2=\"53\"></line></g></g><g aria-label=\"x-axis tick\"><g fill=\"none\" stroke=\"currentColor\" transform=\"translate(0,0)\"><path transform=\"translate(40,30)\" d=\"M0,0L0,-6\"></path><path transform=\"translate(145.45454545454547,30)\" d=\"M0,0L0,-6\"></path><path transform=\"translate(250.90909090909093,30)\" d=\"M0,0L0,-6\"></path><path transform=\"translate(356.3636363636363,30)\" d=\"M0,0L0,-6\"></path><path transform=\"translate(461.81818181818187,30)\" d=\"M0,0L0,-6\"></path><path transform=\"translate(567.2727272727273,30)\" d=\"M0,0L0,-6\"></path></g></g><g aria-label=\"x-axis tick label\" transform=\"translate(0,-9)\"><g font-variant=\"tabular-nums\" transform=\"translate(0,0)\"><text transform=\"translate(40,30)\">0</text><text transform=\"translate(145.45454545454547,30)\">2</text><text transform=\"translate(250.90909090909093,30)\">4</text><text transform=\"translate(356.3636363636363,30)\">6</text><text transform=\"translate(461.81818181818187,30)\">8</text><text transform=\"translate(567.2727272727273,30)\">10</text></g></g><g aria-label=\"x-axis label\" text-anchor=\"end\" transform=\"translate(17,-27)\"><text y=\"0.71em\" transform=\"translate(620,30)\">dB →</text></g><g aria-label=\"rule\"><g stroke=\"currentColor\" transform=\"translate(0,0)\"><line x1=\"156.43959803845357\" x2=\"503.2496717766956\" y1=\"41.5\" y2=\"41.5\"></line></g><g stroke=\"currentColor\" transform=\"translate(0,26)\"><line x1=\"419.6363636363636\" x2=\"482.90909090909093\" y1=\"41.5\" y2=\"41.5\"></line></g></g><g aria-label=\"bar\"><g fill=\"#ccc\" transform=\"translate(0,0)\"><rect x=\"306.05948599815804\" width=\"148.30744681489028\" y=\"30\" height=\"23\"></rect></g><g fill=\"#ccc\" transform=\"translate(0,26)\"><rect x=\"440.72727272727275\" width=\"42.18181818181819\" y=\"30\" height=\"23\"></rect></g></g><g aria-label=\"tick\"><g stroke=\"currentColor\" stroke-width=\"2\" transform=\"translate(0,0)\"><line x1=\"432.753816093973\" x2=\"432.753816093973\" y1=\"30\" y2=\"53\"></line></g><g stroke=\"currentColor\" stroke-width=\"2\" transform=\"translate(0,26)\"><line x1=\"472.3636363636363\" x2=\"472.3636363636363\" y1=\"30\" y2=\"53\"></line></g></g><g aria-label=\"dot\"><g fill=\"none\" stroke=\"currentColor\" stroke-width=\"1.5\" transform=\"translate(0,26)\"><circle cx=\"556.7272727272727\" cy=\"41.5\" r=\"3\"></circle></g></g></svg></figure>"
            ]
          },
          "execution_count": 12,
          "metadata": {},
          "output_type": "execute_result"
        }
      ],
      "source": [
        "const sinrMeasurements = measurementsExerciseThree.map(calculateSinr)\n",
        "const snrMeasurements = measurementsExerciseThree.map((x) => x.snrDb)\n",
        "\n",
        "plotBoxes({\n",
        "  data: [[\n",
        "    [\"SINR\", sinrMeasurements],\n",
        "    [\"SNR\", snrMeasurements],\n",
        "  ]],\n",
        "  yName: \"dB\",\n",
        "});\n"
      ]
    },
    {
      "cell_type": "code",
      "execution_count": 13,
      "metadata": {},
      "outputs": [
        {
          "data": {
            "text/html": [
              "<figure class=\"plot-d6a7b5-figure\" style=\"max-width: initial;\"><h2></h2><svg class=\"plot-d6a7b5\" fill=\"currentColor\" font-family=\"system-ui, sans-serif\" font-size=\"10\" text-anchor=\"middle\" width=\"640\" height=\"100\" viewBox=\"0 0 640 100\" style=\"background: none; overflow: visible;\"><style>:where(.plot-d6a7b5) {\n",
              "  --plot-background: white;\n",
              "  display: block;\n",
              "  height: auto;\n",
              "  height: intrinsic;\n",
              "  max-width: 100%;\n",
              "}\n",
              ":where(.plot-d6a7b5 text),\n",
              ":where(.plot-d6a7b5 tspan) {\n",
              "  white-space: pre;\n",
              "}</style><g aria-label=\"fy-axis tick label\" transform=\"translate(-9,0)\"><g text-anchor=\"end\" transform=\"translate(0,0)\"><text y=\"0.32em\" transform=\"translate(40,41.5)\">SINR</text></g><g text-anchor=\"end\" transform=\"translate(0,26)\"><text y=\"0.32em\" transform=\"translate(40,41.5)\">SNR</text></g></g><g aria-label=\"fy-axis label\" transform=\"translate(-37,0)\"><text y=\"0.71em\" transform=\"translate(40,54.5) rotate(-90)\"></text></g><g aria-label=\"x-grid\"><g stroke=\"currentColor\" stroke-opacity=\"0.1\" transform=\"translate(0,0)\"><line x1=\"40\" x2=\"40\" y1=\"30\" y2=\"53\"></line><line x1=\"135.08196721311475\" x2=\"135.08196721311475\" y1=\"30\" y2=\"53\"></line><line x1=\"230.16393442622947\" x2=\"230.16393442622947\" y1=\"30\" y2=\"53\"></line><line x1=\"325.24590163934425\" x2=\"325.24590163934425\" y1=\"30\" y2=\"53\"></line><line x1=\"420.32786885245895\" x2=\"420.32786885245895\" y1=\"30\" y2=\"53\"></line><line x1=\"515.4098360655738\" x2=\"515.4098360655738\" y1=\"30\" y2=\"53\"></line><line x1=\"610.4918032786885\" x2=\"610.4918032786885\" y1=\"30\" y2=\"53\"></line></g><g stroke=\"currentColor\" stroke-opacity=\"0.1\" transform=\"translate(0,26)\"><line x1=\"40\" x2=\"40\" y1=\"30\" y2=\"53\"></line><line x1=\"135.08196721311475\" x2=\"135.08196721311475\" y1=\"30\" y2=\"53\"></line><line x1=\"230.16393442622947\" x2=\"230.16393442622947\" y1=\"30\" y2=\"53\"></line><line x1=\"325.24590163934425\" x2=\"325.24590163934425\" y1=\"30\" y2=\"53\"></line><line x1=\"420.32786885245895\" x2=\"420.32786885245895\" y1=\"30\" y2=\"53\"></line><line x1=\"515.4098360655738\" x2=\"515.4098360655738\" y1=\"30\" y2=\"53\"></line><line x1=\"610.4918032786885\" x2=\"610.4918032786885\" y1=\"30\" y2=\"53\"></line></g></g><g aria-label=\"x-axis tick\"><g fill=\"none\" stroke=\"currentColor\" transform=\"translate(0,0)\"><path transform=\"translate(40,30)\" d=\"M0,0L0,-6\"></path><path transform=\"translate(135.08196721311475,30)\" d=\"M0,0L0,-6\"></path><path transform=\"translate(230.16393442622947,30)\" d=\"M0,0L0,-6\"></path><path transform=\"translate(325.24590163934425,30)\" d=\"M0,0L0,-6\"></path><path transform=\"translate(420.32786885245895,30)\" d=\"M0,0L0,-6\"></path><path transform=\"translate(515.4098360655738,30)\" d=\"M0,0L0,-6\"></path><path transform=\"translate(610.4918032786885,30)\" d=\"M0,0L0,-6\"></path></g></g><g aria-label=\"x-axis tick label\" transform=\"translate(0,-9)\"><g font-variant=\"tabular-nums\" transform=\"translate(0,0)\"><text transform=\"translate(40,30)\">0</text><text transform=\"translate(135.08196721311475,30)\">10,000,000</text><text transform=\"translate(230.16393442622947,30)\">20,000,000</text><text transform=\"translate(325.24590163934425,30)\">30,000,000</text><text transform=\"translate(420.32786885245895,30)\">40,000,000</text><text transform=\"translate(515.4098360655738,30)\">50,000,000</text><text transform=\"translate(610.4918032786885,30)\">60,000,000</text></g></g><g aria-label=\"x-axis label\" text-anchor=\"end\" transform=\"translate(17,-27)\"><text y=\"0.71em\" transform=\"translate(620,30)\">dB →</text></g><g aria-label=\"bar\"><g transform=\"translate(0,0)\"><rect x=\"40\" width=\"349.2044962688524\" y=\"30\" height=\"23\"></rect></g><g transform=\"translate(0,26)\"><rect x=\"40\" width=\"423.3784785770492\" y=\"30\" height=\"23\"></rect></g></g><g aria-label=\"text\" transform=\"translate(3,0)\"><g text-anchor=\"start\" font-variant=\"tabular-nums\" transform=\"translate(0,0)\"><text y=\"0.32em\" transform=\"translate(389.2044962688524,41.5)\">36,726,679.78</text></g><g text-anchor=\"start\" font-variant=\"tabular-nums\" transform=\"translate(0,26)\"><text y=\"0.32em\" transform=\"translate(463.3784785770492,41.5)\">44,527,736.54</text></g></g></svg></figure>"
            ]
          },
          "execution_count": 13,
          "metadata": {},
          "output_type": "execute_result"
        }
      ],
      "source": [
        "plotBars({\n",
        "    data: [[\n",
        "      [\"SINR\", sinrMeasurements.map(sinr => lteThroughput(sinr, 19.579e6))],\n",
        "      [\"SNR\", snrMeasurements.map(snr => lteThroughput(snr, 19.579e6))],\n",
        "    ]],\n",
        "    yName: \"Throughput\",\n",
        "  });"
      ]
    }
  ],
  "metadata": {
    "kernelspec": {
      "display_name": "Deno",
      "language": "typescript",
      "name": "deno"
    },
    "language_info": {
      "file_extension": ".ts",
      "mimetype": "text/x.typescript",
      "name": "typescript",
      "nb_converter": "script",
      "pygments_lexer": "typescript",
      "version": "5.3.3"
    }
  },
  "nbformat": 4,
  "nbformat_minor": 2
}
